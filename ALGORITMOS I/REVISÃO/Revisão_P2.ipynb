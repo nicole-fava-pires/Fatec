{
 "cells": [
  {
   "cell_type": "code",
   "execution_count": 9,
   "id": "daed5e2f-83e6-4aaa-967a-d325cdc9d18f",
   "metadata": {},
   "outputs": [
    {
     "name": "stdout",
     "output_type": "stream",
     "text": [
      "A média do consumo diário é 51.37\n"
     ]
    }
   ],
   "source": [
    "#Calcule a média de consumo energético mensal de uma empresa\n",
    "consumo_diario = [50, 45, 55, 60, 48, 52, 47, 49, 53, 51, 50, 46, 54, 61, 49, 53, 48, 50, 52, 47, 56, 50, 55, 60, 48, 52, 47, 49, 53, 51]\n",
    "consumo_mensal = 0\n",
    "\n",
    "#Calculando o total mensal\n",
    "for i in consumo_diario:\n",
    "    consumo_mensal += i\n",
    "\n",
    "#Calculando a média mensal\n",
    "media_consumo_mensal = consumo_mensal / 30\n",
    "\n",
    "#Imprimindo o resultado\n",
    "print(f'A média do consumo diário é {media_consumo_mensal:.2f}')    "
   ]
  },
  {
   "cell_type": "code",
   "execution_count": 27,
   "id": "1e78efc7-0cac-4016-872f-69a6b54c39c6",
   "metadata": {},
   "outputs": [
    {
     "name": "stdout",
     "output_type": "stream",
     "text": [
      "O funcionário mais produtivo é o 3o com 41 tarefas realizadas\n"
     ]
    }
   ],
   "source": [
    "#Analise a produtividade semanal (5 dias) dos funcionários de uma empresa \n",
    "\n",
    "produtividade = [ [5, 7, 6, 8, 7], #Funcionário 1\n",
    "                  [6, 5, 6, 7, 6], #Funcionário 2\n",
    "                  [8, 9, 7, 8, 9], #Funcionário 3\n",
    "                  [4, 6, 5, 5, 6], #Funcionário 4\n",
    "                  [7, 8, 7, 8, 7] ] #Funcionário 5\n",
    "\n",
    "fun = [0, 0, 0, 0, 0]\n",
    "f = 0\n",
    "\n",
    "for tarefas in produtividade:\n",
    "    soma = 0\n",
    "    for tarefa in tarefas:\n",
    "        soma += tarefa\n",
    "        fun[f] = soma\n",
    "    f += 1\n",
    "\n",
    "maior = max(fun)\n",
    "funcionario = fun.index(maior)+1\n",
    "print(f'O funcionário mais produtivo é o {funcionario}o com {maior} tarefas realizadas') "
   ]
  },
  {
   "cell_type": "code",
   "execution_count": 40,
   "id": "51fd8446-dca6-4a6d-a5b1-e6337cdbb42a",
   "metadata": {},
   "outputs": [
    {
     "name": "stdin",
     "output_type": "stream",
     "text": [
      "Digite o nome do participante:  Nicole\n"
     ]
    },
    {
     "name": "stdout",
     "output_type": "stream",
     "text": [
      "Nicole não está no evento!\n"
     ]
    }
   ],
   "source": [
    "#Criar uma função que retorne um valor booleano para verificar se um participante está ou não inscrito em um evento\n",
    "\n",
    "#Definindo as variáveis\n",
    "participantes_evento = ['Ana','Bruno', 'Carlos', 'Diana', 'Eduardo']\n",
    "nome = input(f'Digite o nome do participante: ')\n",
    "\n",
    "#Definindo a função\n",
    "def verificar_participantes(participantes_evento, nome):\n",
    "    if nome in participantes_evento:\n",
    "        return True\n",
    "    else:\n",
    "        return False\n",
    "\n",
    "#Definindo o output\n",
    "if verificar_participantes(participantes_evento, nome):\n",
    "    print(f'{nome} está no evento!')\n",
    "else:\n",
    "    print(f'{nome} não está no evento!')"
   ]
  },
  {
   "cell_type": "code",
   "execution_count": null,
   "id": "09c2242a-5965-4ed6-b5e6-a34121250466",
   "metadata": {},
   "outputs": [],
   "source": []
  }
 ],
 "metadata": {
  "kernelspec": {
   "display_name": "Python 3 (ipykernel)",
   "language": "python",
   "name": "python3"
  },
  "language_info": {
   "codemirror_mode": {
    "name": "ipython",
    "version": 3
   },
   "file_extension": ".py",
   "mimetype": "text/x-python",
   "name": "python",
   "nbconvert_exporter": "python",
   "pygments_lexer": "ipython3",
   "version": "3.11.7"
  }
 },
 "nbformat": 4,
 "nbformat_minor": 5
}
