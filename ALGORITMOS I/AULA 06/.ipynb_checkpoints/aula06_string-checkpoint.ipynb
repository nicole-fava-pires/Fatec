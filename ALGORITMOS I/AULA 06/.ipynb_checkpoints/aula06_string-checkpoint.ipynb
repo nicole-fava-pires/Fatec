{
 "cells": [
  {
   "cell_type": "code",
   "execution_count": 2,
   "id": "05926123",
   "metadata": {},
   "outputs": [
    {
     "name": "stdout",
     "output_type": "stream",
     "text": [
      "Nicole\n"
     ]
    }
   ],
   "source": [
    "nome = \"Nicole\"\n",
    "print(nome)"
   ]
  },
  {
   "cell_type": "code",
   "execution_count": 5,
   "id": "5e8fc5be",
   "metadata": {},
   "outputs": [
    {
     "name": "stdout",
     "output_type": "stream",
     "text": [
      "meu nome é Nicole\n"
     ]
    }
   ],
   "source": [
    "print(\"meu nome é\", nome)"
   ]
  },
  {
   "cell_type": "code",
   "execution_count": 8,
   "id": "8daf1fe1",
   "metadata": {},
   "outputs": [
    {
     "name": "stdout",
     "output_type": "stream",
     "text": [
      "N\n"
     ]
    }
   ],
   "source": [
    "print(nome[0])"
   ]
  },
  {
   "cell_type": "code",
   "execution_count": 9,
   "id": "0f32c4fe",
   "metadata": {},
   "outputs": [
    {
     "name": "stdout",
     "output_type": "stream",
     "text": [
      "<class 'str'>\n"
     ]
    }
   ],
   "source": [
    "print(type(nome))"
   ]
  },
  {
   "cell_type": "code",
   "execution_count": null,
   "id": "1b483a63",
   "metadata": {},
   "outputs": [],
   "source": []
  }
 ],
 "metadata": {
  "kernelspec": {
   "display_name": "Python 3 (ipykernel)",
   "language": "python",
   "name": "python3"
  },
  "language_info": {
   "codemirror_mode": {
    "name": "ipython",
    "version": 3
   },
   "file_extension": ".py",
   "mimetype": "text/x-python",
   "name": "python",
   "nbconvert_exporter": "python",
   "pygments_lexer": "ipython3",
   "version": "3.11.5"
  }
 },
 "nbformat": 4,
 "nbformat_minor": 5
}
