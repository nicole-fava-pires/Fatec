{
 "cells": [
  {
   "cell_type": "code",
   "execution_count": 12,
   "id": "72c73e60",
   "metadata": {},
   "outputs": [],
   "source": [
    "x = 5\n",
    "y = 5.7\n",
    "z = \"67\"\n",
    "w = \"23.6\""
   ]
  },
  {
   "cell_type": "code",
   "execution_count": 8,
   "id": "6664ffde",
   "metadata": {},
   "outputs": [
    {
     "name": "stdout",
     "output_type": "stream",
     "text": [
      "5\n"
     ]
    }
   ],
   "source": [
    "inteiro = int(y)\n",
    "print(inteiro)"
   ]
  },
  {
   "cell_type": "code",
   "execution_count": 9,
   "id": "c813a82b",
   "metadata": {},
   "outputs": [
    {
     "name": "stdout",
     "output_type": "stream",
     "text": [
      "5.0\n"
     ]
    }
   ],
   "source": [
    "fraçao = float(x)\n",
    "print(fraçao)"
   ]
  },
  {
   "cell_type": "code",
   "execution_count": 10,
   "id": "70ee2802",
   "metadata": {},
   "outputs": [
    {
     "name": "stdout",
     "output_type": "stream",
     "text": [
      "67\n"
     ]
    }
   ],
   "source": [
    "inteiro = int(z)\n",
    "print(inteiro)"
   ]
  },
  {
   "cell_type": "code",
   "execution_count": 13,
   "id": "8b84a33b",
   "metadata": {},
   "outputs": [
    {
     "name": "stdout",
     "output_type": "stream",
     "text": [
      "6723.6\n"
     ]
    }
   ],
   "source": [
    "soma = z + w\n",
    "print(soma)"
   ]
  },
  {
   "cell_type": "code",
   "execution_count": 15,
   "id": "77e94287",
   "metadata": {},
   "outputs": [
    {
     "name": "stdout",
     "output_type": "stream",
     "text": [
      "90.6\n"
     ]
    }
   ],
   "source": [
    "soma = int(z) + float(w)\n",
    "print(soma)"
   ]
  },
  {
   "cell_type": "code",
   "execution_count": 16,
   "id": "5d3dd6cb",
   "metadata": {},
   "outputs": [
    {
     "ename": "ValueError",
     "evalue": "invalid literal for int() with base 10: '23.6'",
     "output_type": "error",
     "traceback": [
      "\u001b[1;31m---------------------------------------------------------------------------\u001b[0m",
      "\u001b[1;31mValueError\u001b[0m                                Traceback (most recent call last)",
      "Cell \u001b[1;32mIn[16], line 1\u001b[0m\n\u001b[1;32m----> 1\u001b[0m soma \u001b[38;5;241m=\u001b[39m \u001b[38;5;28mint\u001b[39m(z) \u001b[38;5;241m+\u001b[39m \u001b[38;5;28mint\u001b[39m(w)\n\u001b[0;32m      2\u001b[0m \u001b[38;5;28mprint\u001b[39m(soma)\n",
      "\u001b[1;31mValueError\u001b[0m: invalid literal for int() with base 10: '23.6'"
     ]
    }
   ],
   "source": [
    "soma = int(z) + int(w)\n",
    "print(soma)"
   ]
  },
  {
   "cell_type": "code",
   "execution_count": 17,
   "id": "eaa02add",
   "metadata": {},
   "outputs": [
    {
     "name": "stdout",
     "output_type": "stream",
     "text": [
      "90.6\n",
      "<class 'str'>\n"
     ]
    }
   ],
   "source": [
    "frase = str(soma)\n",
    "print(frase)\n",
    "print(type(frase))"
   ]
  },
  {
   "cell_type": "code",
   "execution_count": null,
   "id": "82015646",
   "metadata": {},
   "outputs": [],
   "source": []
  }
 ],
 "metadata": {
  "kernelspec": {
   "display_name": "Python 3 (ipykernel)",
   "language": "python",
   "name": "python3"
  },
  "language_info": {
   "codemirror_mode": {
    "name": "ipython",
    "version": 3
   },
   "file_extension": ".py",
   "mimetype": "text/x-python",
   "name": "python",
   "nbconvert_exporter": "python",
   "pygments_lexer": "ipython3",
   "version": "3.11.5"
  }
 },
 "nbformat": 4,
 "nbformat_minor": 5
}
