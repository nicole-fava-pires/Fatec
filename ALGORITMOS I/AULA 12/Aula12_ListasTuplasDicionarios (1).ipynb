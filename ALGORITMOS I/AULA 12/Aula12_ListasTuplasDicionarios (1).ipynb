{
 "cells": [
  {
   "cell_type": "markdown",
   "metadata": {
    "id": "vQ_959LpJXgu"
   },
   "source": [
    "## <font color='blue'>Aula 12 - Algoritmos e Estrutura de Dados 1 </font>\n",
    "## <font color='blue'>Estruturas de Dados (Listas / Tuplas / Dicionários)</font>"
   ]
  },
  {
   "cell_type": "code",
   "execution_count": null,
   "metadata": {
    "id": "T5h6Pbu3JXg_"
   },
   "outputs": [],
   "source": [
    "# Versão da Linguagem Python\n",
    "from platform import python_version\n",
    "print('Versão da Linguagem Python Usada Neste Jupyter Notebook:', python_version())"
   ]
  },
  {
   "cell_type": "markdown",
   "metadata": {
    "id": "uaC2rNUoJXhF"
   },
   "source": [
    "## <font color='blue'>LISTAS...</font>\n",
    "---\n",
    "### Trabalhando com Listas"
   ]
  },
  {
   "cell_type": "code",
   "execution_count": null,
   "metadata": {
    "id": "zizL0sYKJXhG"
   },
   "outputs": [],
   "source": [
    "# Criando uma lista\n",
    "lista_1 = [\"arroz, frango, tomate, leite\"]"
   ]
  },
  {
   "cell_type": "code",
   "execution_count": null,
   "metadata": {
    "id": "Qj5SaJMRJXhJ",
    "outputId": "51479c90-730f-40f6-e282-dc8c38b3213e"
   },
   "outputs": [
    {
     "data": {
      "text/plain": [
       "list"
      ]
     },
     "execution_count": 2,
     "metadata": {},
     "output_type": "execute_result"
    }
   ],
   "source": [
    "type(lista_1)"
   ]
  },
  {
   "cell_type": "code",
   "execution_count": null,
   "metadata": {
    "id": "B0Z6UObBJXhO",
    "outputId": "302c7c09-e15b-4cbe-8313-7cf0a15ac894"
   },
   "outputs": [
    {
     "name": "stdout",
     "output_type": "stream",
     "text": [
      "['arroz, frango, tomate, leite']\n"
     ]
    }
   ],
   "source": [
    "# Imprimindo a lista\n",
    "print(lista_1)"
   ]
  },
  {
   "cell_type": "code",
   "execution_count": null,
   "metadata": {
    "id": "9rY0-MkVJXhP"
   },
   "outputs": [],
   "source": [
    "# Criando outra lista\n",
    "lista_2 = [\"arroz\", \"frango\", \"tomate\", \"leite\"]"
   ]
  },
  {
   "cell_type": "code",
   "execution_count": null,
   "metadata": {
    "id": "Vp81_aJmJXhQ",
    "outputId": "c2388397-ec8d-4c05-93d4-fe4453813de6"
   },
   "outputs": [
    {
     "data": {
      "text/plain": [
       "list"
      ]
     },
     "execution_count": 5,
     "metadata": {},
     "output_type": "execute_result"
    }
   ],
   "source": [
    "type(lista_2)"
   ]
  },
  {
   "cell_type": "code",
   "execution_count": null,
   "metadata": {
    "id": "cPBR8OdTJXhR",
    "outputId": "f861fec0-6eec-4617-81d1-d4150a9d2529"
   },
   "outputs": [
    {
     "name": "stdout",
     "output_type": "stream",
     "text": [
      "['arroz', 'frango', 'tomate', 'leite']\n"
     ]
    }
   ],
   "source": [
    "# Imprimindo a lista\n",
    "print(lista_2)"
   ]
  },
  {
   "cell_type": "code",
   "execution_count": null,
   "metadata": {
    "id": "seOooLMrJXhT"
   },
   "outputs": [],
   "source": [
    "# Criando lista\n",
    "lista_3 = [23, 100, \"Cientista de Dados\"]"
   ]
  },
  {
   "cell_type": "code",
   "execution_count": null,
   "metadata": {
    "id": "4bkcKj0sJXhT",
    "outputId": "48ef0a83-95ac-4229-91d5-80901ee0c6ed"
   },
   "outputs": [
    {
     "data": {
      "text/plain": [
       "list"
      ]
     },
     "execution_count": 8,
     "metadata": {},
     "output_type": "execute_result"
    }
   ],
   "source": [
    "type(lista_3)"
   ]
  },
  {
   "cell_type": "code",
   "execution_count": null,
   "metadata": {
    "id": "6o2XL4wuJXhV",
    "outputId": "2d940bbf-c91f-4be2-fec3-1a97a378350f"
   },
   "outputs": [
    {
     "name": "stdout",
     "output_type": "stream",
     "text": [
      "[23, 100, 'Cientista de Dados']\n"
     ]
    }
   ],
   "source": [
    "# Imprimindo\n",
    "print(lista_3)"
   ]
  },
  {
   "cell_type": "code",
   "execution_count": null,
   "metadata": {
    "id": "FwHBCnNSJXhY"
   },
   "outputs": [],
   "source": [
    "# Atribuindo cada valor da lista a uma variável.\n",
    "item1 = lista_3[0]\n",
    "item2 = lista_3[1]\n",
    "item3 = lista_3[2]"
   ]
  },
  {
   "cell_type": "code",
   "execution_count": null,
   "metadata": {
    "id": "RLtm6MKLJXhb",
    "outputId": "3c63c3c3-a0da-48eb-8a42-5a84ec514b40"
   },
   "outputs": [
    {
     "name": "stdout",
     "output_type": "stream",
     "text": [
      "23 100 Cientista de Dados\n"
     ]
    }
   ],
   "source": [
    "# Imprimindo as variáveis\n",
    "print(item1, item2, item3)"
   ]
  },
  {
   "cell_type": "code",
   "execution_count": null,
   "metadata": {
    "id": "RhTQ-y6iJXhc"
   },
   "outputs": [],
   "source": [
    "alunos = ['ana', 'pedro', 'maria']\n",
    "notas = [9, 3.5, 6]"
   ]
  },
  {
   "cell_type": "code",
   "execution_count": null,
   "metadata": {
    "id": "SzN4Ckb2JXhd",
    "outputId": "457d1c8b-716e-4f5f-eaf1-91b0f923b14a"
   },
   "outputs": [
    {
     "name": "stdout",
     "output_type": "stream",
     "text": [
      "O(a) estudante ana teve nota 9!\n",
      "O(a) estudante pedro teve nota 3.5!\n",
      "O(a) estudante maria teve nota 6!\n"
     ]
    }
   ],
   "source": [
    "for i in range(len(alunos)):\n",
    "    print(f\"O(a) estudante {alunos[i]} teve nota {notas[i]}!\")"
   ]
  },
  {
   "cell_type": "markdown",
   "metadata": {
    "id": "CK4a_eGKJXhe"
   },
   "source": [
    "#### Atualizando Um Item da Lista"
   ]
  },
  {
   "cell_type": "code",
   "execution_count": null,
   "metadata": {
    "id": "cQBflNmpJXhf",
    "outputId": "7a0a0854-2947-4713-d501-0983221a0804"
   },
   "outputs": [
    {
     "data": {
      "text/plain": [
       "['arroz', 'frango', 'tomate', 'leite']"
      ]
     },
     "execution_count": 14,
     "metadata": {},
     "output_type": "execute_result"
    }
   ],
   "source": [
    "lista_2"
   ]
  },
  {
   "cell_type": "code",
   "execution_count": null,
   "metadata": {
    "id": "ujaDxX4ZJXhg",
    "outputId": "d6f958d8-5ea3-423a-d0c8-e4de21819b0f"
   },
   "outputs": [
    {
     "data": {
      "text/plain": [
       "'tomate'"
      ]
     },
     "execution_count": 15,
     "metadata": {},
     "output_type": "execute_result"
    }
   ],
   "source": [
    "# Imprimindo um item da lista\n",
    "lista_2[2]"
   ]
  },
  {
   "cell_type": "code",
   "execution_count": null,
   "metadata": {
    "id": "4D4DOHhdJXhi"
   },
   "outputs": [],
   "source": [
    "# Atualizando um item da lista\n",
    "lista_2[2] = \"chocolate\""
   ]
  },
  {
   "cell_type": "code",
   "execution_count": null,
   "metadata": {
    "id": "ux0-c1iZJXhj",
    "outputId": "5caa7846-1cad-4d6b-d971-a505de536614"
   },
   "outputs": [
    {
     "data": {
      "text/plain": [
       "['arroz', 'frango', 'chocolate', 'leite']"
      ]
     },
     "execution_count": 17,
     "metadata": {},
     "output_type": "execute_result"
    }
   ],
   "source": [
    "# Imprimindo lista alterada\n",
    "lista_2"
   ]
  },
  {
   "cell_type": "markdown",
   "metadata": {
    "id": "-K3A9P1iJXhl"
   },
   "source": [
    "#### Deletando Um Item da Lista"
   ]
  },
  {
   "cell_type": "code",
   "execution_count": null,
   "metadata": {
    "id": "zUgm1nanJXhl",
    "outputId": "03eed3b6-b2e8-4246-a1ce-e515084f7ed9"
   },
   "outputs": [
    {
     "data": {
      "text/plain": [
       "['arroz', 'frango', 'chocolate', 'leite']"
      ]
     },
     "execution_count": 18,
     "metadata": {},
     "output_type": "execute_result"
    }
   ],
   "source": [
    "lista_2"
   ]
  },
  {
   "cell_type": "code",
   "execution_count": null,
   "metadata": {
    "id": "60PoLO8tJXhm",
    "outputId": "f68f6a52-1585-4d20-d7a3-ce7529f5dbb0"
   },
   "outputs": [
    {
     "ename": "IndexError",
     "evalue": "list assignment index out of range",
     "output_type": "error",
     "traceback": [
      "\u001b[1;31m---------------------------------------------------------------------------\u001b[0m",
      "\u001b[1;31mIndexError\u001b[0m                                Traceback (most recent call last)",
      "Cell \u001b[1;32mIn[19], line 2\u001b[0m\n\u001b[0;32m      1\u001b[0m \u001b[38;5;66;03m# Não é possível deletar um item que não existe na lista. Vai gerar erro index out of range\u001b[39;00m\n\u001b[1;32m----> 2\u001b[0m \u001b[38;5;28;01mdel\u001b[39;00m lista_2[\u001b[38;5;241m4\u001b[39m]\n",
      "\u001b[1;31mIndexError\u001b[0m: list assignment index out of range"
     ]
    }
   ],
   "source": [
    "# Não é possível deletar um item que não existe na lista. Vai gerar erro index out of range\n",
    "del lista_2[4]"
   ]
  },
  {
   "cell_type": "code",
   "execution_count": null,
   "metadata": {
    "id": "gHrIl1TfJXhn"
   },
   "outputs": [],
   "source": [
    "# Deletando um item específico da lista\n",
    "del lista_2[3]"
   ]
  },
  {
   "cell_type": "code",
   "execution_count": null,
   "metadata": {
    "id": "6a4rDLw3JXhq",
    "outputId": "cb528210-d8d9-4144-9856-11b9ac1455d4"
   },
   "outputs": [
    {
     "data": {
      "text/plain": [
       "['arroz', 'frango', 'chocolate']"
      ]
     },
     "execution_count": 21,
     "metadata": {},
     "output_type": "execute_result"
    }
   ],
   "source": [
    "# Imprimindo o item com a lista alterada\n",
    "lista_2"
   ]
  },
  {
   "cell_type": "markdown",
   "metadata": {
    "id": "YhQti32XJXht"
   },
   "source": [
    "#### Listas de Listas (Listas Aninhadas)\n",
    "\n",
    "Listas de listas são matrizes em Python."
   ]
  },
  {
   "cell_type": "code",
   "execution_count": null,
   "metadata": {
    "id": "s4Vyd0rqJXhv"
   },
   "outputs": [],
   "source": [
    "# Criando uma lista de listas\n",
    "listas = [ [1,2,3], [10,15,14], [10.1,8.7,2.3] ]"
   ]
  },
  {
   "cell_type": "code",
   "execution_count": null,
   "metadata": {
    "id": "sPua-mb-JXhw",
    "outputId": "90101dcf-ef03-4be7-b4ff-3860f1262ee2"
   },
   "outputs": [
    {
     "name": "stdout",
     "output_type": "stream",
     "text": [
      "[[1, 2, 3], [10, 15, 14], [10.1, 8.7, 2.3]]\n"
     ]
    }
   ],
   "source": [
    "# Imprimindo a lista\n",
    "print(listas)"
   ]
  },
  {
   "cell_type": "code",
   "execution_count": null,
   "metadata": {
    "id": "E7QfsSLHJXhw"
   },
   "outputs": [],
   "source": [
    "# Atribuindo um item da lista a uma variável\n",
    "a = listas[0]"
   ]
  },
  {
   "cell_type": "code",
   "execution_count": null,
   "metadata": {
    "id": "ypXwuO3pJXhx",
    "outputId": "caaec8c2-7b87-4cea-fecc-4d0502817c9f"
   },
   "outputs": [
    {
     "data": {
      "text/plain": [
       "2"
      ]
     },
     "execution_count": 27,
     "metadata": {},
     "output_type": "execute_result"
    }
   ],
   "source": [
    "listas[0][1]"
   ]
  },
  {
   "cell_type": "code",
   "execution_count": null,
   "metadata": {
    "id": "RTL8fnAiJXhy",
    "outputId": "e46a0219-e913-4f15-e37c-b454784e75a8"
   },
   "outputs": [
    {
     "data": {
      "text/plain": [
       "[1, 2, 3]"
      ]
     },
     "execution_count": 25,
     "metadata": {},
     "output_type": "execute_result"
    }
   ],
   "source": [
    "a"
   ]
  },
  {
   "cell_type": "code",
   "execution_count": null,
   "metadata": {
    "id": "7K6CJ7aEJXhz"
   },
   "outputs": [],
   "source": [
    "b = a[0]"
   ]
  },
  {
   "cell_type": "code",
   "execution_count": null,
   "metadata": {
    "id": "I5K_8iPHJXh0",
    "outputId": "93bab565-1c55-4714-bf19-9be6166337c0"
   },
   "outputs": [
    {
     "data": {
      "text/plain": [
       "1"
      ]
     },
     "execution_count": 29,
     "metadata": {},
     "output_type": "execute_result"
    }
   ],
   "source": [
    "b"
   ]
  },
  {
   "cell_type": "code",
   "execution_count": null,
   "metadata": {
    "id": "eh9k-Ea-JXh1"
   },
   "outputs": [],
   "source": [
    "list1 = listas[1]"
   ]
  },
  {
   "cell_type": "code",
   "execution_count": null,
   "metadata": {
    "id": "OFBmIq9dJXh2",
    "outputId": "e1cdb99c-4aa4-4cfc-d827-0fcdd9e62c4a"
   },
   "outputs": [
    {
     "data": {
      "text/plain": [
       "[10, 15, 14]"
      ]
     },
     "execution_count": 31,
     "metadata": {},
     "output_type": "execute_result"
    }
   ],
   "source": [
    "list1"
   ]
  },
  {
   "cell_type": "code",
   "execution_count": null,
   "metadata": {
    "id": "HF03EQEHJXh3"
   },
   "outputs": [],
   "source": [
    "valor_1_0 = list1[0]"
   ]
  },
  {
   "cell_type": "code",
   "execution_count": null,
   "metadata": {
    "id": "2mzBmjS7JXh5",
    "outputId": "9af14d6a-08e8-4eaf-cba5-9ce8eea27248"
   },
   "outputs": [
    {
     "data": {
      "text/plain": [
       "10"
      ]
     },
     "execution_count": 33,
     "metadata": {},
     "output_type": "execute_result"
    }
   ],
   "source": [
    "valor_1_0"
   ]
  },
  {
   "cell_type": "code",
   "execution_count": null,
   "metadata": {
    "id": "DvsAhnT6JXh7"
   },
   "outputs": [],
   "source": [
    "valor_1_2 = list1[2]"
   ]
  },
  {
   "cell_type": "code",
   "execution_count": null,
   "metadata": {
    "id": "MOaiIt5UJXix",
    "outputId": "a1be265d-c6f8-48ad-c038-cee48890b54d"
   },
   "outputs": [
    {
     "data": {
      "text/plain": [
       "14"
      ]
     },
     "execution_count": 35,
     "metadata": {},
     "output_type": "execute_result"
    }
   ],
   "source": [
    "valor_1_2"
   ]
  },
  {
   "cell_type": "code",
   "execution_count": null,
   "metadata": {
    "id": "Y5RHtbOZJXiy"
   },
   "outputs": [],
   "source": [
    "list2 = listas[2]"
   ]
  },
  {
   "cell_type": "code",
   "execution_count": null,
   "metadata": {
    "id": "UoMpjpSzJXiz",
    "outputId": "531c95fa-c350-45c2-ab9f-9ece88f6f8e3"
   },
   "outputs": [
    {
     "data": {
      "text/plain": [
       "[10.1, 8.7, 2.3]"
      ]
     },
     "execution_count": 37,
     "metadata": {},
     "output_type": "execute_result"
    }
   ],
   "source": [
    "list2"
   ]
  },
  {
   "cell_type": "code",
   "execution_count": null,
   "metadata": {
    "id": "y_VHzNV_JXi0"
   },
   "outputs": [],
   "source": [
    "valor_2_0 = list2[0]"
   ]
  },
  {
   "cell_type": "code",
   "execution_count": null,
   "metadata": {
    "id": "sdnE9XFqJXi1",
    "outputId": "e45bbcf0-fc8c-4e33-d448-08677283ae7e"
   },
   "outputs": [
    {
     "data": {
      "text/plain": [
       "10.1"
      ]
     },
     "execution_count": 39,
     "metadata": {},
     "output_type": "execute_result"
    }
   ],
   "source": [
    "valor_2_0"
   ]
  },
  {
   "cell_type": "markdown",
   "metadata": {
    "id": "YI5MIVaKJXi2"
   },
   "source": [
    "#### Operações com Listas"
   ]
  },
  {
   "cell_type": "code",
   "execution_count": null,
   "metadata": {
    "id": "PwsltqiTJXi2"
   },
   "outputs": [],
   "source": [
    "# Criando uma lista aninhada (lista de listas - Matrizes)\n",
    "listas = [[1,2,3], [10,15,14], [10.1,8.7,2.3]]"
   ]
  },
  {
   "cell_type": "code",
   "execution_count": null,
   "metadata": {
    "id": "OGAEXdFjJXi3",
    "outputId": "4ee0a9d9-5911-43f4-f92e-a22b271198ae"
   },
   "outputs": [
    {
     "data": {
      "text/plain": [
       "[[1, 2, 3], [10, 15, 14], [10.1, 8.7, 2.3]]"
      ]
     },
     "execution_count": 41,
     "metadata": {},
     "output_type": "execute_result"
    }
   ],
   "source": [
    "listas"
   ]
  },
  {
   "cell_type": "code",
   "execution_count": null,
   "metadata": {
    "id": "hLJ3KN1dJXi4"
   },
   "outputs": [],
   "source": [
    "# Atribuindo à variável a o primeiro valor da primeira lista\n",
    "a = listas[0][0]"
   ]
  },
  {
   "cell_type": "code",
   "execution_count": null,
   "metadata": {
    "id": "7e2bUWH4JXi4",
    "outputId": "893987c5-51ce-4d89-f252-1dcaef1b1d51"
   },
   "outputs": [
    {
     "data": {
      "text/plain": [
       "1"
      ]
     },
     "execution_count": 43,
     "metadata": {},
     "output_type": "execute_result"
    }
   ],
   "source": [
    "a"
   ]
  },
  {
   "cell_type": "code",
   "execution_count": null,
   "metadata": {
    "id": "ueoGDz_ZJXi6"
   },
   "outputs": [],
   "source": [
    "b = listas[1][2]"
   ]
  },
  {
   "cell_type": "code",
   "execution_count": null,
   "metadata": {
    "id": "dhJnycDqJXi-",
    "outputId": "11e66cda-b995-4bce-93f2-ec8fb4bc8b92"
   },
   "outputs": [
    {
     "data": {
      "text/plain": [
       "14"
      ]
     },
     "execution_count": 46,
     "metadata": {},
     "output_type": "execute_result"
    }
   ],
   "source": [
    "b"
   ]
  },
  {
   "cell_type": "code",
   "execution_count": null,
   "metadata": {
    "id": "v_jguD-BJXjA"
   },
   "outputs": [],
   "source": [
    "c = listas[0][2] + 10"
   ]
  },
  {
   "cell_type": "code",
   "execution_count": null,
   "metadata": {
    "id": "KTAJKgYuJXjA",
    "outputId": "1039f7cf-bc05-4500-f789-7a43c610c9bf"
   },
   "outputs": [
    {
     "data": {
      "text/plain": [
       "13"
      ]
     },
     "execution_count": 48,
     "metadata": {},
     "output_type": "execute_result"
    }
   ],
   "source": [
    "c"
   ]
  },
  {
   "cell_type": "code",
   "execution_count": null,
   "metadata": {
    "id": "9t5-Jn2BJXjC"
   },
   "outputs": [],
   "source": [
    "d = 10"
   ]
  },
  {
   "cell_type": "code",
   "execution_count": null,
   "metadata": {
    "id": "lUbHYspdJXjC",
    "outputId": "9172b198-56e8-449e-dff5-ddbaecbc2d2a"
   },
   "outputs": [
    {
     "data": {
      "text/plain": [
       "10"
      ]
     },
     "execution_count": 50,
     "metadata": {},
     "output_type": "execute_result"
    }
   ],
   "source": [
    "d"
   ]
  },
  {
   "cell_type": "code",
   "execution_count": null,
   "metadata": {
    "id": "XXFp1YToJXjE"
   },
   "outputs": [],
   "source": [
    "e = d * listas[2][0]"
   ]
  },
  {
   "cell_type": "code",
   "execution_count": null,
   "metadata": {
    "id": "jAQXgl6DJXjF",
    "outputId": "321d5256-f27f-4975-816b-25e0f402457d"
   },
   "outputs": [
    {
     "data": {
      "text/plain": [
       "101.0"
      ]
     },
     "execution_count": 52,
     "metadata": {},
     "output_type": "execute_result"
    }
   ],
   "source": [
    "e"
   ]
  },
  {
   "cell_type": "markdown",
   "metadata": {
    "id": "Mxn0meY2JXjG"
   },
   "source": [
    "#### Concatenando Listas"
   ]
  },
  {
   "cell_type": "code",
   "execution_count": null,
   "metadata": {
    "id": "w3yHbiF1JXjH"
   },
   "outputs": [],
   "source": [
    "lista_s1 = [34, 32, 56]"
   ]
  },
  {
   "cell_type": "code",
   "execution_count": null,
   "metadata": {
    "id": "4I6_KaiJJXjI",
    "outputId": "ce3d9f50-69f7-4164-a697-1bcf90318213"
   },
   "outputs": [
    {
     "data": {
      "text/plain": [
       "[34, 32, 56]"
      ]
     },
     "execution_count": 55,
     "metadata": {},
     "output_type": "execute_result"
    }
   ],
   "source": [
    "lista_s1"
   ]
  },
  {
   "cell_type": "code",
   "execution_count": null,
   "metadata": {
    "id": "OctKDw3lJXjK"
   },
   "outputs": [],
   "source": [
    "lista_s2 = [21, 90, 51]"
   ]
  },
  {
   "cell_type": "code",
   "execution_count": null,
   "metadata": {
    "id": "YKgTqiVsJXjL",
    "outputId": "9a91fc4e-88f0-421f-f933-c7a07c2ae847"
   },
   "outputs": [
    {
     "data": {
      "text/plain": [
       "[21, 90, 51]"
      ]
     },
     "execution_count": 57,
     "metadata": {},
     "output_type": "execute_result"
    }
   ],
   "source": [
    "lista_s2"
   ]
  },
  {
   "cell_type": "code",
   "execution_count": null,
   "metadata": {
    "id": "mDPzbfiQJXjO"
   },
   "outputs": [],
   "source": [
    "# Concatenando listas\n",
    "lista_total = lista_s1 + lista_s2"
   ]
  },
  {
   "cell_type": "code",
   "execution_count": null,
   "metadata": {
    "id": "DCGR-YLwJXjQ",
    "outputId": "a919035d-78f0-4e99-dad2-774c7120c7ba"
   },
   "outputs": [
    {
     "data": {
      "text/plain": [
       "[34, 32, 56, 21, 90, 51]"
      ]
     },
     "execution_count": 59,
     "metadata": {},
     "output_type": "execute_result"
    }
   ],
   "source": [
    "lista_total"
   ]
  },
  {
   "cell_type": "markdown",
   "metadata": {
    "id": "W6rWLdG4JXjR"
   },
   "source": [
    "### Operador in"
   ]
  },
  {
   "cell_type": "code",
   "execution_count": null,
   "metadata": {
    "id": "R32z9wx2JXjS"
   },
   "outputs": [],
   "source": [
    "# Criando uma lista\n",
    "lista_teste_op = [100, 2, -5, 3.4]"
   ]
  },
  {
   "cell_type": "code",
   "execution_count": null,
   "metadata": {
    "id": "dMpIjmHXJXjS",
    "outputId": "80990ef0-a553-46c9-d4d9-5a5f3e8d96cb"
   },
   "outputs": [
    {
     "name": "stdout",
     "output_type": "stream",
     "text": [
      "False\n"
     ]
    }
   ],
   "source": [
    "# Verificando se o valor 10 pertence a lista\n",
    "print(10 in lista_teste_op)"
   ]
  },
  {
   "cell_type": "code",
   "execution_count": null,
   "metadata": {
    "id": "YrO_KvPaJXjT",
    "outputId": "7d0bdb44-f1a3-4fcb-fce7-0a4b9a1f0bf5"
   },
   "outputs": [
    {
     "name": "stdout",
     "output_type": "stream",
     "text": [
      "True\n"
     ]
    }
   ],
   "source": [
    "# Verificando se o valor 100 pertence a lista\n",
    "print(100 in lista_teste_op)"
   ]
  },
  {
   "cell_type": "markdown",
   "metadata": {
    "id": "7fYk9hxyJXjU"
   },
   "source": [
    "### Funções Built-in"
   ]
  },
  {
   "cell_type": "code",
   "execution_count": null,
   "metadata": {
    "id": "86mugGzZJXjV"
   },
   "outputs": [],
   "source": [
    "lista_s1."
   ]
  },
  {
   "cell_type": "markdown",
   "metadata": {
    "id": "xtNKXBkKJXjV"
   },
   "source": [
    "![Listas](listas.jpg)"
   ]
  },
  {
   "cell_type": "code",
   "execution_count": null,
   "metadata": {
    "id": "EoHR7NdmJXjW"
   },
   "outputs": [],
   "source": [
    "# Criando uma lista\n",
    "lista_numeros = [10, 20, 50, -3.4]"
   ]
  },
  {
   "cell_type": "code",
   "execution_count": null,
   "metadata": {
    "id": "LN0f72HIJXjX",
    "outputId": "dee53bd1-6f9d-4f8c-967c-f9047d21cde7"
   },
   "outputs": [
    {
     "data": {
      "text/plain": [
       "4"
      ]
     },
     "execution_count": 64,
     "metadata": {},
     "output_type": "execute_result"
    }
   ],
   "source": [
    "# Função len() retorna o comprimento da lista\n",
    "len(lista_numeros)"
   ]
  },
  {
   "cell_type": "code",
   "execution_count": null,
   "metadata": {
    "id": "DC8M0PcqJXjZ",
    "outputId": "818a163c-cfda-441e-8a27-0d340cbba068"
   },
   "outputs": [
    {
     "data": {
      "text/plain": [
       "50"
      ]
     },
     "execution_count": 65,
     "metadata": {},
     "output_type": "execute_result"
    }
   ],
   "source": [
    "# Função max() retorna o valor máximo da lista\n",
    "max(lista_numeros)"
   ]
  },
  {
   "cell_type": "code",
   "execution_count": null,
   "metadata": {
    "id": "R826mC1PJXjb",
    "outputId": "94085051-75a8-491c-e0cc-f0f5a9e3c4fb"
   },
   "outputs": [
    {
     "data": {
      "text/plain": [
       "-3.4"
      ]
     },
     "execution_count": 66,
     "metadata": {},
     "output_type": "execute_result"
    }
   ],
   "source": [
    "# Função min() retorna o valor mínimo da lista\n",
    "min(lista_numeros)"
   ]
  },
  {
   "cell_type": "code",
   "execution_count": null,
   "metadata": {
    "id": "QF299kLTJXjg"
   },
   "outputs": [],
   "source": [
    "# Criando uma lista\n",
    "lista_formacoes_dsa = [\"Analista de Dados\", \"Cientista de Dados\", \"Engenheiro de Dados\"]"
   ]
  },
  {
   "cell_type": "code",
   "execution_count": null,
   "metadata": {
    "id": "U030DSUaJXji",
    "outputId": "b83f092f-d5d0-4d13-dad5-63d2b4060fb1"
   },
   "outputs": [
    {
     "data": {
      "text/plain": [
       "['Analista de Dados', 'Cientista de Dados', 'Engenheiro de Dados']"
      ]
     },
     "execution_count": 68,
     "metadata": {},
     "output_type": "execute_result"
    }
   ],
   "source": [
    "lista_formacoes_dsa"
   ]
  },
  {
   "cell_type": "code",
   "execution_count": null,
   "metadata": {
    "id": "98ZAF2WyJXjj"
   },
   "outputs": [],
   "source": [
    "# Adicionando um item à lista\n",
    "lista_formacoes_dsa.append(\"Engenheiro de IA\")"
   ]
  },
  {
   "cell_type": "code",
   "execution_count": null,
   "metadata": {
    "id": "7IB_44RpJXjk",
    "outputId": "475eaeed-0798-481a-b26d-9a503bbf9014"
   },
   "outputs": [
    {
     "data": {
      "text/plain": [
       "['Analista de Dados',\n",
       " 'Cientista de Dados',\n",
       " 'Engenheiro de Dados',\n",
       " 'Engenheiro de IA']"
      ]
     },
     "execution_count": 70,
     "metadata": {},
     "output_type": "execute_result"
    }
   ],
   "source": [
    "lista_formacoes_dsa"
   ]
  },
  {
   "cell_type": "code",
   "execution_count": null,
   "metadata": {
    "id": "g8-crwd_JXjl"
   },
   "outputs": [],
   "source": [
    "lista_formacoes_dsa.append(\"Engenheiro de IA\")"
   ]
  },
  {
   "cell_type": "code",
   "execution_count": null,
   "metadata": {
    "id": "D0-ZQcDrJXjm",
    "outputId": "b0cc6818-adf7-48d7-eca4-f9dfeac92eba",
    "scrolled": true
   },
   "outputs": [
    {
     "data": {
      "text/plain": [
       "['Analista de Dados',\n",
       " 'Cientista de Dados',\n",
       " 'Engenheiro de Dados',\n",
       " 'Engenheiro de IA',\n",
       " 'Engenheiro de IA']"
      ]
     },
     "execution_count": 72,
     "metadata": {},
     "output_type": "execute_result"
    }
   ],
   "source": [
    "lista_formacoes_dsa"
   ]
  },
  {
   "cell_type": "code",
   "execution_count": null,
   "metadata": {
    "id": "oM0NBzncJXjn",
    "outputId": "7246e67b-d899-4a14-9cba-c1d491eeb87a"
   },
   "outputs": [
    {
     "data": {
      "text/plain": [
       "2"
      ]
     },
     "execution_count": 73,
     "metadata": {},
     "output_type": "execute_result"
    }
   ],
   "source": [
    "lista_formacoes_dsa.count(\"Engenheiro de IA\")"
   ]
  },
  {
   "cell_type": "code",
   "execution_count": null,
   "metadata": {
    "id": "396LRFq4JXjn"
   },
   "outputs": [],
   "source": [
    "# Criando uma lista vazia\n",
    "a = []"
   ]
  },
  {
   "cell_type": "code",
   "execution_count": null,
   "metadata": {
    "id": "SFK2wLXkJXjo",
    "outputId": "7e7eb3d5-e45c-4412-c2ad-fa704f735583"
   },
   "outputs": [
    {
     "name": "stdout",
     "output_type": "stream",
     "text": [
      "[]\n"
     ]
    }
   ],
   "source": [
    "print(a)"
   ]
  },
  {
   "cell_type": "code",
   "execution_count": null,
   "metadata": {
    "id": "tVaNWRL2JXjp",
    "outputId": "dffaece1-9e63-4a08-d6d6-36f08f5cd27d"
   },
   "outputs": [
    {
     "data": {
      "text/plain": [
       "list"
      ]
     },
     "execution_count": 76,
     "metadata": {},
     "output_type": "execute_result"
    }
   ],
   "source": [
    "type(a)"
   ]
  },
  {
   "cell_type": "code",
   "execution_count": null,
   "metadata": {
    "id": "obpP-VvVJXjq"
   },
   "outputs": [],
   "source": [
    "a.append(10)"
   ]
  },
  {
   "cell_type": "code",
   "execution_count": null,
   "metadata": {
    "id": "tRX5PF01JXjs",
    "outputId": "8f4c2015-e646-40ae-b4e2-99dea2643e1a"
   },
   "outputs": [
    {
     "data": {
      "text/plain": [
       "[10]"
      ]
     },
     "execution_count": 78,
     "metadata": {},
     "output_type": "execute_result"
    }
   ],
   "source": [
    "a"
   ]
  },
  {
   "cell_type": "code",
   "execution_count": null,
   "metadata": {
    "id": "yRaaInWAJXjx"
   },
   "outputs": [],
   "source": [
    "a.append(50)"
   ]
  },
  {
   "cell_type": "code",
   "execution_count": null,
   "metadata": {
    "id": "XBrSPokRJXjy",
    "outputId": "16e93635-1649-43b2-9b59-de712484a409"
   },
   "outputs": [
    {
     "data": {
      "text/plain": [
       "[10, 50]"
      ]
     },
     "execution_count": 80,
     "metadata": {},
     "output_type": "execute_result"
    }
   ],
   "source": [
    "a"
   ]
  },
  {
   "cell_type": "code",
   "execution_count": null,
   "metadata": {
    "id": "SVM8KYiFJXjz"
   },
   "outputs": [],
   "source": [
    "old_list = [1,2,5,10]"
   ]
  },
  {
   "cell_type": "code",
   "execution_count": null,
   "metadata": {
    "id": "X79B7ddWJXj1"
   },
   "outputs": [],
   "source": [
    "new_list = []"
   ]
  },
  {
   "cell_type": "code",
   "execution_count": null,
   "metadata": {
    "id": "rDXLz5sxJXj2"
   },
   "outputs": [],
   "source": [
    "# Copiando os itens de uma lista para outra\n",
    "for item in old_list:\n",
    "    new_list.append(item)"
   ]
  },
  {
   "cell_type": "code",
   "execution_count": null,
   "metadata": {
    "id": "pvD5xZbwJXj4",
    "outputId": "8bdc4047-d2ca-4f1a-a812-a9e509dbd72d"
   },
   "outputs": [
    {
     "name": "stdout",
     "output_type": "stream",
     "text": [
      "Digite um valor (-1 para sair): 5\n",
      "Digite um valor (-1 para sair): 6\n",
      "Digite um valor (-1 para sair): 89\n",
      "Digite um valor (-1 para sair): 1234\n",
      "Digite um valor (-1 para sair): 3\n",
      "Digite um valor (-1 para sair): -1\n",
      "[5, 6, 89, 1234, 3]\n"
     ]
    }
   ],
   "source": [
    "lista = []\n",
    "while True:\n",
    "    n = int(input(\"Digite um valor (-1 para sair): \"))\n",
    "    if n == -1:\n",
    "        break\n",
    "    lista.append(n)\n",
    "\n",
    "print(lista)"
   ]
  },
  {
   "cell_type": "code",
   "execution_count": null,
   "metadata": {
    "id": "-1ilwoq1JXj5",
    "outputId": "8e361641-6c68-4826-8de1-580831f1371a"
   },
   "outputs": [
    {
     "data": {
      "text/plain": [
       "[1, 2, 5, 10]"
      ]
     },
     "execution_count": 84,
     "metadata": {},
     "output_type": "execute_result"
    }
   ],
   "source": [
    "new_list"
   ]
  },
  {
   "cell_type": "code",
   "execution_count": null,
   "metadata": {
    "id": "-GarzAhBJXj6",
    "outputId": "11225b4d-9a97-472e-ac4a-3c7decd8868f"
   },
   "outputs": [
    {
     "name": "stdout",
     "output_type": "stream",
     "text": [
      "['Recife', 'Manaus', 'Salvador', 'Fortaleza', 'Palmas']\n"
     ]
    }
   ],
   "source": [
    "cidades = ['Recife', 'Manaus', 'Salvador']\n",
    "cidades.extend(['Fortaleza', 'Palmas'])\n",
    "print (cidades)"
   ]
  },
  {
   "cell_type": "code",
   "execution_count": null,
   "metadata": {
    "id": "mzggHFO6JXj7",
    "outputId": "cf5bf62d-a8ac-4555-e1fd-f9fec0779729"
   },
   "outputs": [
    {
     "data": {
      "text/plain": [
       "2"
      ]
     },
     "execution_count": 87,
     "metadata": {},
     "output_type": "execute_result"
    }
   ],
   "source": [
    "cidades.index('Salvador')"
   ]
  },
  {
   "cell_type": "markdown",
   "metadata": {
    "id": "P4HHBmEgJXj9"
   },
   "source": [
    "Lembre-se: em Python o índice começa por 0!"
   ]
  },
  {
   "cell_type": "code",
   "execution_count": null,
   "metadata": {
    "id": "A_Qkr3-rJXkC",
    "outputId": "eab0aa5c-d740-4fe9-c21b-30a04563e757"
   },
   "outputs": [
    {
     "ename": "ValueError",
     "evalue": "'Rio de Janeiro' is not in list",
     "output_type": "error",
     "traceback": [
      "\u001b[1;31m---------------------------------------------------------------------------\u001b[0m",
      "\u001b[1;31mValueError\u001b[0m                                Traceback (most recent call last)",
      "Cell \u001b[1;32mIn[88], line 1\u001b[0m\n\u001b[1;32m----> 1\u001b[0m cidades\u001b[38;5;241m.\u001b[39mindex(\u001b[38;5;124m'\u001b[39m\u001b[38;5;124mRio de Janeiro\u001b[39m\u001b[38;5;124m'\u001b[39m)\n",
      "\u001b[1;31mValueError\u001b[0m: 'Rio de Janeiro' is not in list"
     ]
    }
   ],
   "source": [
    "cidades.index('Rio de Janeiro')"
   ]
  },
  {
   "cell_type": "code",
   "execution_count": null,
   "metadata": {
    "id": "BEXR8VSAJXkE",
    "outputId": "e89394b6-2a1b-4acd-b395-8155735c1948"
   },
   "outputs": [
    {
     "data": {
      "text/plain": [
       "['Recife', 'Manaus', 'Salvador', 'Fortaleza', 'Palmas']"
      ]
     },
     "execution_count": 89,
     "metadata": {},
     "output_type": "execute_result"
    }
   ],
   "source": [
    "cidades"
   ]
  },
  {
   "cell_type": "code",
   "execution_count": null,
   "metadata": {
    "id": "YVxwH3NxJXkF"
   },
   "outputs": [],
   "source": [
    "cidades.insert(2, 110)"
   ]
  },
  {
   "cell_type": "code",
   "execution_count": null,
   "metadata": {
    "id": "Jl-9_n1RJXkH",
    "outputId": "ece29a5a-0112-42e3-c889-0f8215b885d0"
   },
   "outputs": [
    {
     "data": {
      "text/plain": [
       "['Recife', 'Manaus', 110, 'Salvador', 'Fortaleza', 'Palmas']"
      ]
     },
     "execution_count": 91,
     "metadata": {},
     "output_type": "execute_result"
    }
   ],
   "source": [
    "cidades"
   ]
  },
  {
   "cell_type": "code",
   "execution_count": null,
   "metadata": {
    "id": "qqVuNqXhJXkJ"
   },
   "outputs": [],
   "source": [
    "# Remove um item da lista\n",
    "cidades.remove(110)"
   ]
  },
  {
   "cell_type": "code",
   "execution_count": null,
   "metadata": {
    "id": "0Xg6VOwJJXkK",
    "outputId": "c0461898-2226-4432-fd0d-c0cf01ca7909"
   },
   "outputs": [
    {
     "data": {
      "text/plain": [
       "['Recife', 'Manaus', 'Salvador', 'Fortaleza', 'Palmas']"
      ]
     },
     "execution_count": 93,
     "metadata": {},
     "output_type": "execute_result"
    }
   ],
   "source": [
    "cidades"
   ]
  },
  {
   "cell_type": "code",
   "execution_count": null,
   "metadata": {
    "id": "MIKu1Eq6JXkM"
   },
   "outputs": [],
   "source": [
    "# Reverte a lista\n",
    "cidades.reverse()"
   ]
  },
  {
   "cell_type": "code",
   "execution_count": null,
   "metadata": {
    "id": "MVuJ8muFJXkM",
    "outputId": "20196408-6205-4369-97d4-077ce59b6b32"
   },
   "outputs": [
    {
     "data": {
      "text/plain": [
       "['Palmas', 'Fortaleza', 'Salvador', 'Manaus', 'Recife']"
      ]
     },
     "execution_count": 95,
     "metadata": {},
     "output_type": "execute_result"
    }
   ],
   "source": [
    "# Imprime a lista\n",
    "cidades"
   ]
  },
  {
   "cell_type": "code",
   "execution_count": null,
   "metadata": {
    "id": "BkKhroS9JXkN"
   },
   "outputs": [],
   "source": [
    "x = [3, 4, 2, 1]"
   ]
  },
  {
   "cell_type": "code",
   "execution_count": null,
   "metadata": {
    "id": "frE2eFoOJXkP",
    "outputId": "f6e8ad8b-87fa-405b-9e15-e2ea1ed108c3"
   },
   "outputs": [
    {
     "data": {
      "text/plain": [
       "[3, 4, 2, 1]"
      ]
     },
     "execution_count": 97,
     "metadata": {},
     "output_type": "execute_result"
    }
   ],
   "source": [
    "x"
   ]
  },
  {
   "cell_type": "code",
   "execution_count": null,
   "metadata": {
    "id": "Mo5ppfETJXkR"
   },
   "outputs": [],
   "source": [
    "# Ordena a lista\n",
    "x.sort()"
   ]
  },
  {
   "cell_type": "code",
   "execution_count": null,
   "metadata": {
    "id": "BIns9jfmJXkT",
    "outputId": "485b4a1c-7755-4bf8-a245-e22886fd8021"
   },
   "outputs": [
    {
     "data": {
      "text/plain": [
       "[1, 2, 3, 4]"
      ]
     },
     "execution_count": 103,
     "metadata": {},
     "output_type": "execute_result"
    }
   ],
   "source": [
    "x"
   ]
  },
  {
   "cell_type": "markdown",
   "metadata": {
    "id": "nHJMwdetJXkV"
   },
   "source": [
    "## <font color='blue'>TUPLAS...</font>\n",
    "---\n",
    "### Trabalhando com Tuplas"
   ]
  },
  {
   "cell_type": "code",
   "execution_count": 1,
   "metadata": {
    "colab": {
     "base_uri": "https://localhost:8080/",
     "height": 159
    },
    "id": "RpGnvPWAJXkV",
    "outputId": "713614fa-778f-4e69-9a20-764632048f18"
   },
   "outputs": [
    {
     "ename": "NameError",
     "evalue": "name 'tupla1' is not defined",
     "output_type": "error",
     "traceback": [
      "\u001b[0;31m---------------------------------------------------------------------------\u001b[0m",
      "\u001b[0;31mNameError\u001b[0m                                 Traceback (most recent call last)",
      "\u001b[0;32m<ipython-input-1-dc64becc0502>\u001b[0m in \u001b[0;36m<cell line: 2>\u001b[0;34m()\u001b[0m\n\u001b[1;32m      1\u001b[0m \u001b[0;31m# Imprimindo a tupla\u001b[0m\u001b[0;34m\u001b[0m\u001b[0;34m\u001b[0m\u001b[0m\n\u001b[0;32m----> 2\u001b[0;31m \u001b[0mtupla1\u001b[0m\u001b[0;34m\u001b[0m\u001b[0;34m\u001b[0m\u001b[0m\n\u001b[0m",
      "\u001b[0;31mNameError\u001b[0m: name 'tupla1' is not defined"
     ]
    }
   ],
   "source": [
    "# Imprimindo a tupla\n",
    "tupla1"
   ]
  },
  {
   "cell_type": "code",
   "execution_count": null,
   "metadata": {
    "id": "boDsU-rTJXkW"
   },
   "outputs": [],
   "source": [
    "# Criando uma tupla\n",
    "tupla1 = (\"Geografia\", 23, \"Elefantes\", 9.8, 'Python')"
   ]
  },
  {
   "cell_type": "code",
   "execution_count": null,
   "metadata": {
    "id": "w68g2AgzJXkX"
   },
   "outputs": [],
   "source": [
    "# Tuplas não suportam append()\n",
    "tupla1.append(\"Chocolate\")"
   ]
  },
  {
   "cell_type": "code",
   "execution_count": null,
   "metadata": {
    "id": "6obSg6DKJXkY"
   },
   "outputs": [],
   "source": [
    "# Tuplas não suportam delete de um item específico\n",
    "del tupla1[\"Elefantes\"]"
   ]
  },
  {
   "cell_type": "code",
   "execution_count": null,
   "metadata": {
    "id": "Y0qdyfA2JXkY"
   },
   "outputs": [],
   "source": [
    "# Tuplas podem ter um único item\n",
    "tupla1 = (\"Chocolate\")"
   ]
  },
  {
   "cell_type": "code",
   "execution_count": null,
   "metadata": {
    "id": "2h4fpQngJXkZ"
   },
   "outputs": [],
   "source": [
    "tupla1"
   ]
  },
  {
   "cell_type": "code",
   "execution_count": 4,
   "metadata": {
    "id": "Sxc6Vq_DJXka"
   },
   "outputs": [],
   "source": [
    "tupla1 = (\"Geografia\", 23, \"Elefantes\", 9.8, 'Python')"
   ]
  },
  {
   "cell_type": "code",
   "execution_count": 5,
   "metadata": {
    "colab": {
     "base_uri": "https://localhost:8080/",
     "height": 35
    },
    "id": "KhDabl_FJXka",
    "outputId": "f62828a6-ddfe-4690-c530-17af2c2e921b"
   },
   "outputs": [
    {
     "data": {
      "application/vnd.google.colaboratory.intrinsic+json": {
       "type": "string"
      },
      "text/plain": [
       "'Geografia'"
      ]
     },
     "execution_count": 5,
     "metadata": {},
     "output_type": "execute_result"
    }
   ],
   "source": [
    "tupla1[0]"
   ]
  },
  {
   "cell_type": "code",
   "execution_count": 6,
   "metadata": {
    "colab": {
     "base_uri": "https://localhost:8080/"
    },
    "id": "lmGeMPRrJXkb",
    "outputId": "8bb7668f-546d-4503-a19e-626de9e20d6f"
   },
   "outputs": [
    {
     "data": {
      "text/plain": [
       "5"
      ]
     },
     "execution_count": 6,
     "metadata": {},
     "output_type": "execute_result"
    }
   ],
   "source": [
    "# Verificando o comprimento da tupla\n",
    "len(tupla1)"
   ]
  },
  {
   "cell_type": "code",
   "execution_count": 7,
   "metadata": {
    "colab": {
     "base_uri": "https://localhost:8080/"
    },
    "id": "BLD2uCviJXkb",
    "outputId": "c1b45129-9299-42f0-e84b-172d6573d7c8"
   },
   "outputs": [
    {
     "data": {
      "text/plain": [
       "(23, 'Elefantes', 9.8, 'Python')"
      ]
     },
     "execution_count": 7,
     "metadata": {},
     "output_type": "execute_result"
    }
   ],
   "source": [
    "# Slicing, da mesma forma que se faz com listas\n",
    "tupla1[1:]"
   ]
  },
  {
   "cell_type": "code",
   "execution_count": 8,
   "metadata": {
    "colab": {
     "base_uri": "https://localhost:8080/"
    },
    "id": "TIApUXQYJXkc",
    "outputId": "7cb56eba-6e3d-4044-fbbe-27ded02fd15b"
   },
   "outputs": [
    {
     "data": {
      "text/plain": [
       "2"
      ]
     },
     "execution_count": 8,
     "metadata": {},
     "output_type": "execute_result"
    }
   ],
   "source": [
    "tupla1.index('Elefantes')"
   ]
  },
  {
   "cell_type": "code",
   "execution_count": 9,
   "metadata": {
    "colab": {
     "base_uri": "https://localhost:8080/",
     "height": 159
    },
    "id": "-mhsGcSHJXkc",
    "outputId": "e6370353-7347-4400-eab4-7d8e7d984898"
   },
   "outputs": [
    {
     "ename": "TypeError",
     "evalue": "'tuple' object does not support item assignment",
     "output_type": "error",
     "traceback": [
      "\u001b[0;31m---------------------------------------------------------------------------\u001b[0m",
      "\u001b[0;31mTypeError\u001b[0m                                 Traceback (most recent call last)",
      "\u001b[0;32m<ipython-input-9-59bcc25f7f2b>\u001b[0m in \u001b[0;36m<cell line: 2>\u001b[0;34m()\u001b[0m\n\u001b[1;32m      1\u001b[0m \u001b[0;31m# Tuplas não suportam atribuição de item\u001b[0m\u001b[0;34m\u001b[0m\u001b[0;34m\u001b[0m\u001b[0m\n\u001b[0;32m----> 2\u001b[0;31m \u001b[0mtupla1\u001b[0m\u001b[0;34m[\u001b[0m\u001b[0;36m1\u001b[0m\u001b[0;34m]\u001b[0m \u001b[0;34m=\u001b[0m \u001b[0;36m21\u001b[0m\u001b[0;34m\u001b[0m\u001b[0;34m\u001b[0m\u001b[0m\n\u001b[0m",
      "\u001b[0;31mTypeError\u001b[0m: 'tuple' object does not support item assignment"
     ]
    }
   ],
   "source": [
    "# Tuplas não suportam atribuição de item\n",
    "tupla1[1] = 21"
   ]
  },
  {
   "cell_type": "code",
   "execution_count": 10,
   "metadata": {
    "id": "m05thAyZJXke"
   },
   "outputs": [],
   "source": [
    "# Deletando a tupla\n",
    "del tupla1"
   ]
  },
  {
   "cell_type": "code",
   "execution_count": 11,
   "metadata": {
    "colab": {
     "base_uri": "https://localhost:8080/",
     "height": 141
    },
    "id": "WxclAqnTJXkh",
    "outputId": "aefeeece-7e14-4ade-c1e0-8e088669362e"
   },
   "outputs": [
    {
     "ename": "NameError",
     "evalue": "name 'tupla1' is not defined",
     "output_type": "error",
     "traceback": [
      "\u001b[0;31m---------------------------------------------------------------------------\u001b[0m",
      "\u001b[0;31mNameError\u001b[0m                                 Traceback (most recent call last)",
      "\u001b[0;32m<ipython-input-11-9c021f243716>\u001b[0m in \u001b[0;36m<cell line: 1>\u001b[0;34m()\u001b[0m\n\u001b[0;32m----> 1\u001b[0;31m \u001b[0mtupla1\u001b[0m\u001b[0;34m\u001b[0m\u001b[0;34m\u001b[0m\u001b[0m\n\u001b[0m",
      "\u001b[0;31mNameError\u001b[0m: name 'tupla1' is not defined"
     ]
    }
   ],
   "source": [
    "tupla1"
   ]
  },
  {
   "cell_type": "code",
   "execution_count": 12,
   "metadata": {
    "id": "IVZs7jM5JXkj"
   },
   "outputs": [],
   "source": [
    "# Criando uma tupla\n",
    "t2 = ('A', 'B', 'C')"
   ]
  },
  {
   "cell_type": "code",
   "execution_count": 13,
   "metadata": {
    "colab": {
     "base_uri": "https://localhost:8080/"
    },
    "id": "PydW2o97JXkk",
    "outputId": "675e50ef-18bd-43cb-a2d7-694c3cf398c5"
   },
   "outputs": [
    {
     "data": {
      "text/plain": [
       "('A', 'B', 'C')"
      ]
     },
     "execution_count": 13,
     "metadata": {},
     "output_type": "execute_result"
    }
   ],
   "source": [
    "t2"
   ]
  },
  {
   "cell_type": "code",
   "execution_count": 14,
   "metadata": {
    "colab": {
     "base_uri": "https://localhost:8080/",
     "height": 159
    },
    "id": "1qMpDykWJXkl",
    "outputId": "43bfd031-d338-4b98-f0db-3e36f3a9fc53"
   },
   "outputs": [
    {
     "ename": "TypeError",
     "evalue": "'tuple' object does not support item assignment",
     "output_type": "error",
     "traceback": [
      "\u001b[0;31m---------------------------------------------------------------------------\u001b[0m",
      "\u001b[0;31mTypeError\u001b[0m                                 Traceback (most recent call last)",
      "\u001b[0;32m<ipython-input-14-f90994f4060e>\u001b[0m in \u001b[0;36m<cell line: 2>\u001b[0;34m()\u001b[0m\n\u001b[1;32m      1\u001b[0m \u001b[0;31m# Tuplas não suportam atribuição de item\u001b[0m\u001b[0;34m\u001b[0m\u001b[0;34m\u001b[0m\u001b[0m\n\u001b[0;32m----> 2\u001b[0;31m \u001b[0mt2\u001b[0m\u001b[0;34m[\u001b[0m\u001b[0;36m0\u001b[0m\u001b[0;34m]\u001b[0m \u001b[0;34m=\u001b[0m \u001b[0;34m'D'\u001b[0m\u001b[0;34m\u001b[0m\u001b[0;34m\u001b[0m\u001b[0m\n\u001b[0m",
      "\u001b[0;31mTypeError\u001b[0m: 'tuple' object does not support item assignment"
     ]
    }
   ],
   "source": [
    "# Tuplas não suportam atribuição de item\n",
    "t2[0] = 'D'"
   ]
  },
  {
   "cell_type": "code",
   "execution_count": 15,
   "metadata": {
    "id": "SPEfAhfvJXkm"
   },
   "outputs": [],
   "source": [
    "# Usando a função list() para converter uma tupla para lista\n",
    "lista_t2 = list(t2)"
   ]
  },
  {
   "cell_type": "code",
   "execution_count": 16,
   "metadata": {
    "colab": {
     "base_uri": "https://localhost:8080/"
    },
    "id": "RY362JcTJXkm",
    "outputId": "a3c46f0f-c6dc-44f5-d085-464ea2219c36"
   },
   "outputs": [
    {
     "data": {
      "text/plain": [
       "tuple"
      ]
     },
     "execution_count": 16,
     "metadata": {},
     "output_type": "execute_result"
    }
   ],
   "source": [
    "type(t2)"
   ]
  },
  {
   "cell_type": "code",
   "execution_count": 17,
   "metadata": {
    "colab": {
     "base_uri": "https://localhost:8080/"
    },
    "id": "gKDfWPcWJXko",
    "outputId": "d8cc0be6-6b95-4079-edc0-706fb84cd29d"
   },
   "outputs": [
    {
     "data": {
      "text/plain": [
       "list"
      ]
     },
     "execution_count": 17,
     "metadata": {},
     "output_type": "execute_result"
    }
   ],
   "source": [
    "type(lista_t2)"
   ]
  },
  {
   "cell_type": "code",
   "execution_count": 19,
   "metadata": {
    "colab": {
     "base_uri": "https://localhost:8080/"
    },
    "id": "WJtF1uizJXkp",
    "outputId": "5c475a58-0651-4c87-9994-45e83b4175b0"
   },
   "outputs": [
    {
     "data": {
      "text/plain": [
       "['A', 'B', 'C']"
      ]
     },
     "execution_count": 19,
     "metadata": {},
     "output_type": "execute_result"
    }
   ],
   "source": [
    "lista_t2"
   ]
  },
  {
   "cell_type": "code",
   "execution_count": 20,
   "metadata": {
    "id": "5HKHp53CJXkq"
   },
   "outputs": [],
   "source": [
    "lista_t2.append('D')"
   ]
  },
  {
   "cell_type": "code",
   "execution_count": 21,
   "metadata": {
    "id": "Tx-qWHvyJXkq"
   },
   "outputs": [],
   "source": [
    "# Usando a função tuple() para converter uma lista para tupla\n",
    "t2 = tuple(lista_t2)"
   ]
  },
  {
   "cell_type": "code",
   "execution_count": 22,
   "metadata": {
    "colab": {
     "base_uri": "https://localhost:8080/"
    },
    "id": "jge1PQO6JXkr",
    "outputId": "19965736-25a0-411b-91f9-e80c98fb185c"
   },
   "outputs": [
    {
     "data": {
      "text/plain": [
       "('A', 'B', 'C', 'D')"
      ]
     },
     "execution_count": 22,
     "metadata": {},
     "output_type": "execute_result"
    }
   ],
   "source": [
    "t2"
   ]
  },
  {
   "cell_type": "markdown",
   "metadata": {
    "id": "4OzN3-wOJXks"
   },
   "source": [
    "### Funções Built-in"
   ]
  },
  {
   "cell_type": "markdown",
   "metadata": {
    "id": "cx2XJILhJXks"
   },
   "source": [
    "![Tuplas](tuplas.jpg)"
   ]
  },
  {
   "cell_type": "markdown",
   "metadata": {
    "id": "AAMnw_tTJXkt"
   },
   "source": [
    "## <font color='blue'>DICIONÁRIOS...</font>\n",
    "---\n",
    "### Trabalhando com Dicionários"
   ]
  },
  {
   "cell_type": "markdown",
   "metadata": {
    "id": "NCKLjQEYJXku"
   },
   "source": [
    "![Dicionários](dicionarios.jpg)"
   ]
  },
  {
   "cell_type": "code",
   "execution_count": 23,
   "metadata": {
    "id": "xPjTgeQJJXku"
   },
   "outputs": [],
   "source": [
    "# Isso é uma lista\n",
    "estudantes_lst = [\"Pedro\", 24, \"Ana\", 22, \"Ronaldo\", 26, \"Janaina\", 25]"
   ]
  },
  {
   "cell_type": "code",
   "execution_count": 24,
   "metadata": {
    "colab": {
     "base_uri": "https://localhost:8080/"
    },
    "id": "80F82FunJXky",
    "outputId": "74cef847-9090-48d5-f68a-5deb5e1d711f"
   },
   "outputs": [
    {
     "data": {
      "text/plain": [
       "['Pedro', 24, 'Ana', 22, 'Ronaldo', 26, 'Janaina', 25]"
      ]
     },
     "execution_count": 24,
     "metadata": {},
     "output_type": "execute_result"
    }
   ],
   "source": [
    "estudantes_lst"
   ]
  },
  {
   "cell_type": "code",
   "execution_count": 25,
   "metadata": {
    "colab": {
     "base_uri": "https://localhost:8080/"
    },
    "id": "2aRaqM9jJXk0",
    "outputId": "a3d5148b-7ff5-42a4-9cae-39b3999fde4e"
   },
   "outputs": [
    {
     "data": {
      "text/plain": [
       "list"
      ]
     },
     "execution_count": 25,
     "metadata": {},
     "output_type": "execute_result"
    }
   ],
   "source": [
    "type(estudantes_lst)"
   ]
  },
  {
   "cell_type": "code",
   "execution_count": 26,
   "metadata": {
    "id": "BeMBn9KJJXk1"
   },
   "outputs": [],
   "source": [
    "# Isso é um dicionário\n",
    "estudantes_dict = {\"Pedro\":24, \"Ana\":22, \"Ronaldo\":26, \"Janaina\":25}"
   ]
  },
  {
   "cell_type": "code",
   "execution_count": 27,
   "metadata": {
    "colab": {
     "base_uri": "https://localhost:8080/"
    },
    "id": "DHrBR9bmJXk1",
    "outputId": "959a3909-f30c-4423-b95a-d4c50096effd"
   },
   "outputs": [
    {
     "data": {
      "text/plain": [
       "{'Pedro': 24, 'Ana': 22, 'Ronaldo': 26, 'Janaina': 25}"
      ]
     },
     "execution_count": 27,
     "metadata": {},
     "output_type": "execute_result"
    }
   ],
   "source": [
    "estudantes_dict"
   ]
  },
  {
   "cell_type": "code",
   "execution_count": 28,
   "metadata": {
    "colab": {
     "base_uri": "https://localhost:8080/"
    },
    "id": "90mFAZvwJXk2",
    "outputId": "8f57b8d9-1c04-43a5-c0c2-3ecc55096e1d"
   },
   "outputs": [
    {
     "data": {
      "text/plain": [
       "dict"
      ]
     },
     "execution_count": 28,
     "metadata": {},
     "output_type": "execute_result"
    }
   ],
   "source": [
    "type(estudantes_dict)"
   ]
  },
  {
   "cell_type": "code",
   "execution_count": 29,
   "metadata": {
    "colab": {
     "base_uri": "https://localhost:8080/"
    },
    "id": "TC-vdWp4JXk4",
    "outputId": "0ee25aa9-da65-450e-f54d-554de7662f24"
   },
   "outputs": [
    {
     "data": {
      "text/plain": [
       "24"
      ]
     },
     "execution_count": 29,
     "metadata": {},
     "output_type": "execute_result"
    }
   ],
   "source": [
    "estudantes_dict[\"Pedro\"]"
   ]
  },
  {
   "cell_type": "code",
   "execution_count": 30,
   "metadata": {
    "id": "bbCd2gQ2JXk5"
   },
   "outputs": [],
   "source": [
    "estudantes_dict[\"Marcelo\"] = 23"
   ]
  },
  {
   "cell_type": "code",
   "execution_count": 31,
   "metadata": {
    "colab": {
     "base_uri": "https://localhost:8080/"
    },
    "id": "ciCXxgIfJXlO",
    "outputId": "f9f6bc8b-27a0-4ae4-ea56-5ac29e8fdc2b"
   },
   "outputs": [
    {
     "data": {
      "text/plain": [
       "23"
      ]
     },
     "execution_count": 31,
     "metadata": {},
     "output_type": "execute_result"
    }
   ],
   "source": [
    "estudantes_dict[\"Marcelo\"]"
   ]
  },
  {
   "cell_type": "code",
   "execution_count": 32,
   "metadata": {
    "colab": {
     "base_uri": "https://localhost:8080/"
    },
    "id": "xSvCpr9pJXlP",
    "outputId": "2cf6de84-ba42-4137-a9c6-14b0e1239475"
   },
   "outputs": [
    {
     "data": {
      "text/plain": [
       "{'Pedro': 24, 'Ana': 22, 'Ronaldo': 26, 'Janaina': 25, 'Marcelo': 23}"
      ]
     },
     "execution_count": 32,
     "metadata": {},
     "output_type": "execute_result"
    }
   ],
   "source": [
    "estudantes_dict"
   ]
  },
  {
   "cell_type": "code",
   "execution_count": 33,
   "metadata": {
    "id": "HnQ6wpD2JXlT"
   },
   "outputs": [],
   "source": [
    "estudantes_dict.clear()"
   ]
  },
  {
   "cell_type": "code",
   "execution_count": 34,
   "metadata": {
    "colab": {
     "base_uri": "https://localhost:8080/"
    },
    "id": "ld3KfUo6JXlU",
    "outputId": "19c121a3-54a2-4646-c8f5-43cc629cf310"
   },
   "outputs": [
    {
     "data": {
      "text/plain": [
       "{}"
      ]
     },
     "execution_count": 34,
     "metadata": {},
     "output_type": "execute_result"
    }
   ],
   "source": [
    "estudantes_dict"
   ]
  },
  {
   "cell_type": "code",
   "execution_count": 35,
   "metadata": {
    "id": "2-6QkFprJXlW"
   },
   "outputs": [],
   "source": [
    "del estudantes_dict"
   ]
  },
  {
   "cell_type": "code",
   "execution_count": 36,
   "metadata": {
    "colab": {
     "base_uri": "https://localhost:8080/",
     "height": 141
    },
    "id": "-Yxerr9MJXlX",
    "outputId": "31b2b5cf-c341-42cc-b5f6-0775e544f84b"
   },
   "outputs": [
    {
     "ename": "NameError",
     "evalue": "name 'estudantes_dict' is not defined",
     "output_type": "error",
     "traceback": [
      "\u001b[0;31m---------------------------------------------------------------------------\u001b[0m",
      "\u001b[0;31mNameError\u001b[0m                                 Traceback (most recent call last)",
      "\u001b[0;32m<ipython-input-36-29b87ec1321c>\u001b[0m in \u001b[0;36m<cell line: 1>\u001b[0;34m()\u001b[0m\n\u001b[0;32m----> 1\u001b[0;31m \u001b[0mestudantes_dict\u001b[0m\u001b[0;34m\u001b[0m\u001b[0;34m\u001b[0m\u001b[0m\n\u001b[0m",
      "\u001b[0;31mNameError\u001b[0m: name 'estudantes_dict' is not defined"
     ]
    }
   ],
   "source": [
    "estudantes_dict"
   ]
  },
  {
   "cell_type": "code",
   "execution_count": 37,
   "metadata": {
    "id": "HN1XTJ5QJXlY"
   },
   "outputs": [],
   "source": [
    "estudantes = {\"Pedro\":24, \"Ana\":22, \"Ronaldo\":26, \"Janaina\":25}"
   ]
  },
  {
   "cell_type": "code",
   "execution_count": 38,
   "metadata": {
    "colab": {
     "base_uri": "https://localhost:8080/"
    },
    "id": "hOIXGbxmJXlY",
    "outputId": "54799fe2-6bc9-4b86-adee-7ae17e1e6c8e"
   },
   "outputs": [
    {
     "data": {
      "text/plain": [
       "{'Pedro': 24, 'Ana': 22, 'Ronaldo': 26, 'Janaina': 25}"
      ]
     },
     "execution_count": 38,
     "metadata": {},
     "output_type": "execute_result"
    }
   ],
   "source": [
    "estudantes"
   ]
  },
  {
   "cell_type": "code",
   "execution_count": 39,
   "metadata": {
    "colab": {
     "base_uri": "https://localhost:8080/"
    },
    "id": "cCb8-cCrJXla",
    "outputId": "258d472b-c365-45f5-8fe2-2593b80202f4"
   },
   "outputs": [
    {
     "data": {
      "text/plain": [
       "4"
      ]
     },
     "execution_count": 39,
     "metadata": {},
     "output_type": "execute_result"
    }
   ],
   "source": [
    "len(estudantes)"
   ]
  },
  {
   "cell_type": "code",
   "execution_count": 40,
   "metadata": {
    "colab": {
     "base_uri": "https://localhost:8080/"
    },
    "id": "crp4u4E7JXlb",
    "outputId": "1d18b61a-5617-408f-be3b-fd5c582edb52"
   },
   "outputs": [
    {
     "data": {
      "text/plain": [
       "dict_keys(['Pedro', 'Ana', 'Ronaldo', 'Janaina'])"
      ]
     },
     "execution_count": 40,
     "metadata": {},
     "output_type": "execute_result"
    }
   ],
   "source": [
    "estudantes.keys()"
   ]
  },
  {
   "cell_type": "code",
   "execution_count": null,
   "metadata": {
    "id": "PkXT_eq2JXlb"
   },
   "outputs": [],
   "source": [
    "estudantes.values()"
   ]
  },
  {
   "cell_type": "code",
   "execution_count": 42,
   "metadata": {
    "colab": {
     "base_uri": "https://localhost:8080/"
    },
    "id": "cAoTAp2iJXlc",
    "outputId": "ec99ed3f-8d88-4c5b-d7c0-52c5dae28729"
   },
   "outputs": [
    {
     "data": {
      "text/plain": [
       "dict_items([('Pedro', 24), ('Ana', 22), ('Ronaldo', 26), ('Janaina', 25)])"
      ]
     },
     "execution_count": 42,
     "metadata": {},
     "output_type": "execute_result"
    }
   ],
   "source": [
    "estudantes.items()"
   ]
  },
  {
   "cell_type": "code",
   "execution_count": 43,
   "metadata": {
    "id": "905DndMBJXlc"
   },
   "outputs": [],
   "source": [
    "estudantes2 = {\"Camila\":27, \"Adriana\":28, \"Roberta\":26}"
   ]
  },
  {
   "cell_type": "code",
   "execution_count": 44,
   "metadata": {
    "colab": {
     "base_uri": "https://localhost:8080/"
    },
    "id": "654HxGUDJXld",
    "outputId": "e640aaf4-9b12-49d8-dbad-43f0756e927d"
   },
   "outputs": [
    {
     "data": {
      "text/plain": [
       "{'Camila': 27, 'Adriana': 28, 'Roberta': 26}"
      ]
     },
     "execution_count": 44,
     "metadata": {},
     "output_type": "execute_result"
    }
   ],
   "source": [
    "estudantes2"
   ]
  },
  {
   "cell_type": "code",
   "execution_count": 45,
   "metadata": {
    "id": "DKkzNA5AJXle"
   },
   "outputs": [],
   "source": [
    "estudantes.update(estudantes2)"
   ]
  },
  {
   "cell_type": "code",
   "execution_count": 46,
   "metadata": {
    "colab": {
     "base_uri": "https://localhost:8080/"
    },
    "id": "VXIoz4UJJXle",
    "outputId": "2e1d1f32-08af-4811-9d38-585eb4cdfdc1"
   },
   "outputs": [
    {
     "data": {
      "text/plain": [
       "{'Pedro': 24,\n",
       " 'Ana': 22,\n",
       " 'Ronaldo': 26,\n",
       " 'Janaina': 25,\n",
       " 'Camila': 27,\n",
       " 'Adriana': 28,\n",
       " 'Roberta': 26}"
      ]
     },
     "execution_count": 46,
     "metadata": {},
     "output_type": "execute_result"
    }
   ],
   "source": [
    "estudantes"
   ]
  },
  {
   "cell_type": "code",
   "execution_count": 47,
   "metadata": {
    "id": "YKI2HFnhJXlf"
   },
   "outputs": [],
   "source": [
    "dic1 = {}"
   ]
  },
  {
   "cell_type": "code",
   "execution_count": 48,
   "metadata": {
    "colab": {
     "base_uri": "https://localhost:8080/"
    },
    "id": "Cl3FaSldJXlf",
    "outputId": "d31df46b-4c34-4770-8be7-d73ce607ba57"
   },
   "outputs": [
    {
     "data": {
      "text/plain": [
       "{}"
      ]
     },
     "execution_count": 48,
     "metadata": {},
     "output_type": "execute_result"
    }
   ],
   "source": [
    "dic1"
   ]
  },
  {
   "cell_type": "code",
   "execution_count": 49,
   "metadata": {
    "id": "eSC9KFhJJXlg"
   },
   "outputs": [],
   "source": [
    "dic1[\"chave_um\"] = 2"
   ]
  },
  {
   "cell_type": "code",
   "execution_count": 50,
   "metadata": {
    "colab": {
     "base_uri": "https://localhost:8080/"
    },
    "id": "BFvOhk6HJXlg",
    "outputId": "a2ce5680-216d-460f-b0f0-ba0ccf09551f"
   },
   "outputs": [
    {
     "name": "stdout",
     "output_type": "stream",
     "text": [
      "{'chave_um': 2}\n"
     ]
    }
   ],
   "source": [
    "print(dic1)"
   ]
  },
  {
   "cell_type": "code",
   "execution_count": 51,
   "metadata": {
    "id": "QG8Y1eRpJXll"
   },
   "outputs": [],
   "source": [
    "dic1[10] = 5"
   ]
  },
  {
   "cell_type": "code",
   "execution_count": 52,
   "metadata": {
    "colab": {
     "base_uri": "https://localhost:8080/"
    },
    "id": "7Vvu4YiWJXln",
    "outputId": "2743611c-ebaa-45db-b63e-399a713cc6c6"
   },
   "outputs": [
    {
     "data": {
      "text/plain": [
       "{'chave_um': 2, 10: 5}"
      ]
     },
     "execution_count": 52,
     "metadata": {},
     "output_type": "execute_result"
    }
   ],
   "source": [
    "dic1"
   ]
  },
  {
   "cell_type": "code",
   "execution_count": 53,
   "metadata": {
    "id": "qz6QEqCiJXlp"
   },
   "outputs": [],
   "source": [
    "dic1[9.13] = \"Python\""
   ]
  },
  {
   "cell_type": "code",
   "execution_count": 54,
   "metadata": {
    "colab": {
     "base_uri": "https://localhost:8080/"
    },
    "id": "m5KOpp57JXlr",
    "outputId": "9400b174-fa2f-4bb1-94c0-328364e6521f"
   },
   "outputs": [
    {
     "data": {
      "text/plain": [
       "{'chave_um': 2, 10: 5, 9.13: 'Python'}"
      ]
     },
     "execution_count": 54,
     "metadata": {},
     "output_type": "execute_result"
    }
   ],
   "source": [
    "dic1"
   ]
  },
  {
   "cell_type": "code",
   "execution_count": 55,
   "metadata": {
    "id": "4OMampTUJXls"
   },
   "outputs": [],
   "source": [
    "dic1[\"teste\"] = 5"
   ]
  },
  {
   "cell_type": "code",
   "execution_count": 56,
   "metadata": {
    "colab": {
     "base_uri": "https://localhost:8080/"
    },
    "id": "BsNQ2uerJXlt",
    "outputId": "d37a74d5-e81d-41c1-8399-b527983150df"
   },
   "outputs": [
    {
     "data": {
      "text/plain": [
       "{'chave_um': 2, 10: 5, 9.13: 'Python', 'teste': 5}"
      ]
     },
     "execution_count": 56,
     "metadata": {},
     "output_type": "execute_result"
    }
   ],
   "source": [
    "dic1"
   ]
  },
  {
   "cell_type": "code",
   "execution_count": 57,
   "metadata": {
    "id": "6LNsnhzlJXlv"
   },
   "outputs": [],
   "source": [
    "dict1 = {}"
   ]
  },
  {
   "cell_type": "code",
   "execution_count": 58,
   "metadata": {
    "colab": {
     "base_uri": "https://localhost:8080/"
    },
    "id": "gTM2ZwOfJXlw",
    "outputId": "06991108-2590-4f2f-dc7d-f39d5b394169"
   },
   "outputs": [
    {
     "data": {
      "text/plain": [
       "{}"
      ]
     },
     "execution_count": 58,
     "metadata": {},
     "output_type": "execute_result"
    }
   ],
   "source": [
    "dict1"
   ]
  },
  {
   "cell_type": "code",
   "execution_count": 59,
   "metadata": {
    "id": "wBXVqODkJXlx"
   },
   "outputs": [],
   "source": [
    "dict1[\"teste\"] = 10"
   ]
  },
  {
   "cell_type": "code",
   "execution_count": 60,
   "metadata": {
    "id": "9jz3Nt1bJXl1"
   },
   "outputs": [],
   "source": [
    "dict1[\"key\"] = \"teste\""
   ]
  },
  {
   "cell_type": "code",
   "execution_count": 61,
   "metadata": {
    "colab": {
     "base_uri": "https://localhost:8080/"
    },
    "id": "DMa8VWzDJXl2",
    "outputId": "811566e9-7a54-4f62-8497-fdf5339d4089"
   },
   "outputs": [
    {
     "data": {
      "text/plain": [
       "{'teste': 10, 'key': 'teste'}"
      ]
     },
     "execution_count": 61,
     "metadata": {},
     "output_type": "execute_result"
    }
   ],
   "source": [
    "# Atenção, pois chave e valor podem ser iguais, mas representam coisas diferentes.\n",
    "dict1"
   ]
  },
  {
   "cell_type": "code",
   "execution_count": 62,
   "metadata": {
    "id": "sjgeJRd3JXl4"
   },
   "outputs": [],
   "source": [
    "dict2 = {}"
   ]
  },
  {
   "cell_type": "code",
   "execution_count": 63,
   "metadata": {
    "id": "-7rY6-2-JXl6"
   },
   "outputs": [],
   "source": [
    "dict2[\"key1\"] = \"Data Science\""
   ]
  },
  {
   "cell_type": "code",
   "execution_count": 64,
   "metadata": {
    "id": "YgZt3KD-JXl7"
   },
   "outputs": [],
   "source": [
    "dict2[\"key2\"] = 10"
   ]
  },
  {
   "cell_type": "code",
   "execution_count": 65,
   "metadata": {
    "id": "GX2Vnwy8JXl7"
   },
   "outputs": [],
   "source": [
    "dict2[\"key3\"] = 100"
   ]
  },
  {
   "cell_type": "code",
   "execution_count": 66,
   "metadata": {
    "colab": {
     "base_uri": "https://localhost:8080/"
    },
    "id": "HSK8Ou_YJXl8",
    "outputId": "b8d65a12-c615-4387-c3a1-4c272cc643fb"
   },
   "outputs": [
    {
     "data": {
      "text/plain": [
       "{'key1': 'Data Science', 'key2': 10, 'key3': 100}"
      ]
     },
     "execution_count": 66,
     "metadata": {},
     "output_type": "execute_result"
    }
   ],
   "source": [
    "dict2"
   ]
  },
  {
   "cell_type": "code",
   "execution_count": 67,
   "metadata": {
    "id": "87pNiuGeJXl8"
   },
   "outputs": [],
   "source": [
    "a = dict2[\"key1\"]"
   ]
  },
  {
   "cell_type": "code",
   "execution_count": 68,
   "metadata": {
    "id": "AY7BDfnPJXl9"
   },
   "outputs": [],
   "source": [
    "b = dict2[\"key2\"]"
   ]
  },
  {
   "cell_type": "code",
   "execution_count": 69,
   "metadata": {
    "id": "f0PtIcTRJXl-"
   },
   "outputs": [],
   "source": [
    "c = dict2[\"key3\"]"
   ]
  },
  {
   "cell_type": "code",
   "execution_count": 70,
   "metadata": {
    "colab": {
     "base_uri": "https://localhost:8080/"
    },
    "id": "eNeMEXLoJXl-",
    "outputId": "0e27318a-99fe-47f6-ad0d-cf2e9914f0e6"
   },
   "outputs": [
    {
     "data": {
      "text/plain": [
       "('Data Science', 10, 100)"
      ]
     },
     "execution_count": 70,
     "metadata": {},
     "output_type": "execute_result"
    }
   ],
   "source": [
    "a, b, c"
   ]
  },
  {
   "cell_type": "code",
   "execution_count": 71,
   "metadata": {
    "id": "aahF4_YJJXl_"
   },
   "outputs": [],
   "source": [
    "# Dicionário de listas\n",
    "dict3 = {'chave1':1230, 'chave2':[22,453,73.4], 'chave3':['picanha', 'fraldinha', 'alcatra']}"
   ]
  },
  {
   "cell_type": "code",
   "execution_count": 72,
   "metadata": {
    "colab": {
     "base_uri": "https://localhost:8080/"
    },
    "id": "GfxhvaoKJXl_",
    "outputId": "2f97e897-d13a-4c58-faf3-e4ce08ffa6db"
   },
   "outputs": [
    {
     "data": {
      "text/plain": [
       "{'chave1': 1230,\n",
       " 'chave2': [22, 453, 73.4],\n",
       " 'chave3': ['picanha', 'fraldinha', 'alcatra']}"
      ]
     },
     "execution_count": 72,
     "metadata": {},
     "output_type": "execute_result"
    }
   ],
   "source": [
    "dict3"
   ]
  },
  {
   "cell_type": "code",
   "execution_count": 73,
   "metadata": {
    "colab": {
     "base_uri": "https://localhost:8080/"
    },
    "id": "O5VVIN5yJXmA",
    "outputId": "30b1a248-07eb-49b5-c05b-90129f4b4b5e"
   },
   "outputs": [
    {
     "data": {
      "text/plain": [
       "[22, 453, 73.4]"
      ]
     },
     "execution_count": 73,
     "metadata": {},
     "output_type": "execute_result"
    }
   ],
   "source": [
    "dict3['chave2']"
   ]
  },
  {
   "cell_type": "code",
   "execution_count": 74,
   "metadata": {
    "colab": {
     "base_uri": "https://localhost:8080/",
     "height": 35
    },
    "id": "wPCp_4D9JXmA",
    "outputId": "4bbcd4f6-4a4d-4a78-a08f-291b5eb75d5b"
   },
   "outputs": [
    {
     "data": {
      "application/vnd.google.colaboratory.intrinsic+json": {
       "type": "string"
      },
      "text/plain": [
       "'PICANHA'"
      ]
     },
     "execution_count": 74,
     "metadata": {},
     "output_type": "execute_result"
    }
   ],
   "source": [
    "# Acessando um item da lista, dentro do dicionário\n",
    "dict3['chave3'][0].upper()"
   ]
  },
  {
   "cell_type": "code",
   "execution_count": 75,
   "metadata": {
    "id": "9dl1ZJ3gJXmC"
   },
   "outputs": [],
   "source": [
    "# Operações com itens da lista, dentro do dicionário\n",
    "var1 = dict3['chave2'][0] - 2"
   ]
  },
  {
   "cell_type": "code",
   "execution_count": 76,
   "metadata": {
    "colab": {
     "base_uri": "https://localhost:8080/"
    },
    "id": "pRvKpdFpJXmF",
    "outputId": "986a534d-7ab1-48bb-fbfd-7dfc1936aa88"
   },
   "outputs": [
    {
     "data": {
      "text/plain": [
       "20"
      ]
     },
     "execution_count": 76,
     "metadata": {},
     "output_type": "execute_result"
    }
   ],
   "source": [
    "var1"
   ]
  },
  {
   "cell_type": "code",
   "execution_count": 77,
   "metadata": {
    "id": "vf_Dm09bJXmG"
   },
   "outputs": [],
   "source": [
    "# Duas operações no mesmo comando, para atualizar um item dentro da lista\n",
    "dict3['chave2'][0] -= 2"
   ]
  },
  {
   "cell_type": "code",
   "execution_count": 78,
   "metadata": {
    "colab": {
     "base_uri": "https://localhost:8080/"
    },
    "id": "3-tijoF2JXmH",
    "outputId": "377bf046-a512-43e8-e337-8858915a31cf"
   },
   "outputs": [
    {
     "data": {
      "text/plain": [
       "{'chave1': 1230,\n",
       " 'chave2': [20, 453, 73.4],\n",
       " 'chave3': ['picanha', 'fraldinha', 'alcatra']}"
      ]
     },
     "execution_count": 78,
     "metadata": {},
     "output_type": "execute_result"
    }
   ],
   "source": [
    "dict3"
   ]
  },
  {
   "cell_type": "markdown",
   "metadata": {
    "id": "UBm6xtIlJXmI"
   },
   "source": [
    "#### Criando Dicionários Aninhados"
   ]
  },
  {
   "cell_type": "code",
   "execution_count": 79,
   "metadata": {
    "id": "-HKNLSG6JXmJ"
   },
   "outputs": [],
   "source": [
    "# Criando dicionários aninhados\n",
    "dict_aninhado = {'key1':{'key2_aninhada':{'key3_aninhada':'Dict aninhado em Python'}}}"
   ]
  },
  {
   "cell_type": "code",
   "execution_count": 80,
   "metadata": {
    "colab": {
     "base_uri": "https://localhost:8080/"
    },
    "id": "ou7s4XB1JXmJ",
    "outputId": "3518102b-ffd8-4d11-d5e0-c5c303675ddc"
   },
   "outputs": [
    {
     "data": {
      "text/plain": [
       "{'key1': {'key2_aninhada': {'key3_aninhada': 'Dict aninhado em Python'}}}"
      ]
     },
     "execution_count": 80,
     "metadata": {},
     "output_type": "execute_result"
    }
   ],
   "source": [
    "dict_aninhado"
   ]
  },
  {
   "cell_type": "code",
   "execution_count": 81,
   "metadata": {
    "colab": {
     "base_uri": "https://localhost:8080/",
     "height": 35
    },
    "id": "_fxzYS8HJXmK",
    "outputId": "ab69387d-62b7-4fb6-a537-59e97f62583b"
   },
   "outputs": [
    {
     "data": {
      "application/vnd.google.colaboratory.intrinsic+json": {
       "type": "string"
      },
      "text/plain": [
       "'Dict aninhado em Python'"
      ]
     },
     "execution_count": 81,
     "metadata": {},
     "output_type": "execute_result"
    }
   ],
   "source": [
    "dict_aninhado['key1']['key2_aninhada']['key3_aninhada']"
   ]
  },
  {
   "cell_type": "markdown",
   "metadata": {
    "id": "oNp4nUjGJXmM"
   },
   "source": [
    "### Funções Built-in"
   ]
  },
  {
   "cell_type": "markdown",
   "metadata": {
    "id": "5PXVOX-7JXmN"
   },
   "source": [
    "![Dicionários](dict.jpg)"
   ]
  },
  {
   "cell_type": "markdown",
   "metadata": {
    "id": "JHrREsxlJXmO"
   },
   "source": [
    "## <font color='blue'>EXERCÍCIOS...</font>\n",
    "---\n",
    "### Exercícios sobre Listas"
   ]
  },
  {
   "cell_type": "markdown",
   "metadata": {
    "id": "9DLJppZ2JXmP"
   },
   "source": [
    "1. Faça um algoritmo que carregue um vetor de 5 elementos numéricos\n",
    "inteiros. Após a finalização da entrada, o algoritmo deve escrever o mesmo\n",
    "vetor, na ordem inversa de entrada."
   ]
  },
  {
   "cell_type": "code",
   "execution_count": 83,
   "metadata": {
    "colab": {
     "base_uri": "https://localhost:8080/"
    },
    "id": "W2bt-IUSJXmQ",
    "outputId": "f341400b-df60-40e5-b963-4dd87c15bc42"
   },
   "outputs": [
    {
     "name": "stdout",
     "output_type": "stream",
     "text": [
      "Digite o valor 1: 1\n",
      "Digite o valor 2: 2\n",
      "Digite o valor 3: 3\n",
      "Digite o valor 4: 4\n",
      "Digite o valor 5: 5\n",
      "Lista inversa:  [5, 4, 3, 2, 1]\n"
     ]
    }
   ],
   "source": [
    "lista = []\n",
    "for i in range(5):\n",
    "  n = int(input(f\"Digite o valor {i+1}: \"))\n",
    "  lista.append(n)\n",
    "\n",
    "print(\"Lista inversa: \", lista[::-1])"
   ]
  },
  {
   "cell_type": "markdown",
   "metadata": {
    "id": "Mn7zyq3EJXmR"
   },
   "source": [
    "2. Faça um algorimto que carregue um vetor de 5 elementos numéricos inteiros. Após a finalização da entrada, o algoritmo deve escrever o maior valor e sua posição.\n"
   ]
  },
  {
   "cell_type": "code",
   "execution_count": 85,
   "metadata": {
    "colab": {
     "base_uri": "https://localhost:8080/"
    },
    "id": "AafrCkGsJXmS",
    "outputId": "44e68b96-5012-4c98-ba91-93f969e0fff8"
   },
   "outputs": [
    {
     "name": "stdout",
     "output_type": "stream",
     "text": [
      "Digite o valor 1: 1\n",
      "Digite o valor 2: 2\n",
      "Digite o valor 3: 3\n",
      "Digite o valor 4: 4\n",
      "Digite o valor 5: 5\n",
      "O maior valor é: 5 e seu indice é 4\n"
     ]
    }
   ],
   "source": [
    "lista = []\n",
    "for i in range(5):\n",
    "  n = int(input(f\"Digite o valor {i+1}: \"))\n",
    "  lista.append(n)\n",
    "maior = max(lista)\n",
    "indice = lista.index(maior)\n",
    "\n",
    "print(f\"O maior valor é: {maior} e seu indice é {indice}\")"
   ]
  },
  {
   "cell_type": "markdown",
   "metadata": {
    "id": "Zs-f7YnnJXmT"
   },
   "source": [
    " 3. Faça algoritmo que carregue dois vetores (listas) de cinco elementos numéricos cada um e mostre um vetor resultante na intercalação desses dois vetores"
   ]
  },
  {
   "cell_type": "code",
   "execution_count": null,
   "metadata": {
    "id": "H4BkiWqIJXmU"
   },
   "outputs": [],
   "source": [
    "l1 = []\n",
    "l2 = []\n",
    "l3 = []\n",
    "for i in range(5):\n",
    "  n = int(input(f\"Digite o valor {i+}: \"))\n",
    "  l1.append(n)\n",
    "for i in range():\n",
    "  n = int(input(f\"Digite o valor {i+}: \"))\n",
    "  l2.append(n)"
   ]
  },
  {
   "cell_type": "code",
   "execution_count": 89,
   "metadata": {
    "colab": {
     "base_uri": "https://localhost:8080/"
    },
    "id": "GsBmqb2rJXmX",
    "outputId": "e96728bf-64f3-40b0-ad38-1f1e33ad8cdb"
   },
   "outputs": [
    {
     "name": "stdout",
     "output_type": "stream",
     "text": [
      "11\n"
     ]
    }
   ],
   "source": [
    "# Exemplo de geração de números aleatórios (randômicos) entre 1 e 60\n",
    "from random import randint\n",
    "a = randint(1, 60)\n",
    "print(a)"
   ]
  },
  {
   "cell_type": "code",
   "execution_count": 87,
   "metadata": {
    "colab": {
     "base_uri": "https://localhost:8080/"
    },
    "id": "0wL_jOf_JXmZ",
    "outputId": "759040bf-6d51-406f-acdf-177f057b78cc"
   },
   "outputs": [
    {
     "name": "stdout",
     "output_type": "stream",
     "text": [
      "6 6 6 2 2 1 3 5 6 3 "
     ]
    }
   ],
   "source": [
    "# Exemplo de geração de 10 jogadas de dados\n",
    "from random import randint\n",
    "# Gerando 10 jogadas\n",
    "for i in range (0,10):\n",
    "    lado = randint(1, 6)\n",
    "    print(lado, end=\" \")"
   ]
  },
  {
   "cell_type": "markdown",
   "metadata": {
    "id": "jABMxn7oJXmb"
   },
   "source": [
    "4. Faça um Algoritmo que simule 6000 jogadas de um dado de 6 faces. Para simular o resultado utilize a função randint  Ao final, mostre a frequência de sorteio de cada uma das faces  \n"
   ]
  },
  {
   "cell_type": "code",
   "execution_count": 101,
   "metadata": {
    "colab": {
     "base_uri": "https://localhost:8080/"
    },
    "id": "ouzQ9sJ2JXmc",
    "outputId": "a61bcd90-9825-4c50-a52a-14b1daef4679"
   },
   "outputs": [
    {
     "name": "stdout",
     "output_type": "stream",
     "text": [
      "1 - 975 - 16.25%\n",
      "2 - 1043 - 17.38%\n",
      "3 - 1012 - 16.87%\n",
      "4 - 965 - 16.08%\n",
      "5 - 977 - 16.28%\n",
      "6 - 1028 - 17.13%\n"
     ]
    }
   ],
   "source": [
    "from random import randint\n",
    "jogadas = [0, 0, 0, 0, 0, 0, 0]\n",
    "percentual = [0, 0, 0, 0, 0, 0, 0]\n",
    "for i in range (6000):\n",
    "  lado = randint(1, 6)\n",
    "  jogadas[lado] += 1\n",
    "\n",
    "for i in range(1, 7):\n",
    "  percentual[i] = (jogadas[i]/6000)*100\n",
    "\n",
    "for i in range(1,7):\n",
    "  print(f\"{i} - {jogadas[i]} - {percentual[i]:.2f}%\")"
   ]
  },
  {
   "cell_type": "markdown",
   "metadata": {
    "id": "4I64PoUtJXmd"
   },
   "source": [
    "5. Faça um algoritmo que simule a jogada de dois dados de 6 faces. O programa deve usar randint para rolar o primeiro dado e deve usar randint novamente para rolar o segundo dado. A soma das duas faces deve ser calculada. Assim: a soma variará de 2 a 12. O programa deve rolar 30.000 vezes e mostrar a frequência com que a soma (de 2 a 12) aparecem.  Verifique se o valor 7 corresponde a 1/6 das jogadas!\n"
   ]
  },
  {
   "cell_type": "code",
   "execution_count": 110,
   "metadata": {
    "colab": {
     "base_uri": "https://localhost:8080/"
    },
    "id": "zPr92HUgJXme",
    "outputId": "9bf95fa6-9707-4aa0-a499-4ac67248021f"
   },
   "outputs": [
    {
     "name": "stdout",
     "output_type": "stream",
     "text": [
      "2 - 834 - 2.78%\n",
      "7 não equivale a 1/6\n",
      "3 - 1639 - 5.46%\n",
      "7 não equivale a 1/6\n",
      "4 - 2534 - 8.45%\n",
      "7 não equivale a 1/6\n",
      "5 - 3228 - 10.76%\n",
      "7 não equivale a 1/6\n",
      "6 - 4270 - 14.23%\n",
      "7 não equivale a 1/6\n",
      "7 - 5101 - 17.00%\n",
      "7 não equivale a 1/6\n",
      "8 - 4121 - 13.74%\n",
      "7 não equivale a 1/6\n",
      "9 - 3336 - 11.12%\n",
      "7 não equivale a 1/6\n",
      "10 - 2427 - 8.09%\n",
      "7 não equivale a 1/6\n",
      "11 - 1616 - 5.39%\n",
      "7 não equivale a 1/6\n",
      "12 - 894 - 2.98%\n",
      "7 não equivale a 1/6\n"
     ]
    }
   ],
   "source": [
    "jogadas = [0, 0, 0, 0, 0, 0, 0, 0, 0, 0, 0, 0, 0]\n",
    "percentual = [0, 0, 0, 0, 0, 0, 0, 0, 0, 0, 0, 0, 0]\n",
    "for i in range (30000):\n",
    "  dado1 = randint(1, 6)\n",
    "  dado2 = randint(1, 6)\n",
    "  soma = dado1 + dado2\n",
    "  jogadas[soma] += 1\n",
    "\n",
    "for i in range(2, 13):\n",
    "  percentual[i] = (jogadas[i]/30000)*100\n",
    "\n",
    "for i in range(2, 13):\n",
    "  print(f\"{i} - {jogadas[i]} - {percentual[i]:.2f}%\")\n",
    "  if [7] == 100/6:\n",
    "    print(f\"7 corresponde a 1/6\")\n",
    "  else:\n",
    "    print(f\"7 não equivale a 1/6\")\n"
   ]
  },
  {
   "cell_type": "markdown",
   "metadata": {
    "id": "kWYcW0SBJXmf"
   },
   "source": [
    "6. Faça um algoritmo que leia uma matriz 2x2 e imprima os seus elementos na ordem:\n",
    "\n",
    "1,1 =\n",
    "\n",
    "1,2 =\n",
    "\n",
    "2,1 =\n",
    "\n",
    "2,2 =\n",
    "\n",
    "Obs: linha, coluna\n"
   ]
  },
  {
   "cell_type": "code",
   "execution_count": 112,
   "metadata": {
    "colab": {
     "base_uri": "https://localhost:8080/"
    },
    "id": "cMrnJchiJXmg",
    "outputId": "c4dc6027-4f3d-4a11-e295-f11834a1305a"
   },
   "outputs": [
    {
     "name": "stdout",
     "output_type": "stream",
     "text": [
      "Digite o valor (0, 0): 2\n",
      "Digite o valor (0, 1): 5\n",
      "Digite o valor (1, 0): 3\n",
      "Digite o valor (1, 1): 4\n",
      "[[2, 5], [3, 4]]\n"
     ]
    }
   ],
   "source": [
    "linha = []\n",
    "matriz = []\n",
    "for i in range(2):\n",
    "  for j in range(2):\n",
    "    x = int(input(f\"Digite o valor ({i}, {j}): \"))\n",
    "    linha.append(x)\n",
    "  matriz.append(linha)\n",
    "  linha = []\n",
    "\n",
    "print(matriz)"
   ]
  },
  {
   "cell_type": "markdown",
   "metadata": {
    "id": "NovZ0aAXJXmh"
   },
   "source": [
    "7. Faça um algoritmo que leia os dados de uma matriz de 4 linhas e 4 colunas, composta de elementos reais, e calcule a soma dos elementos da diagonal principal da matriz."
   ]
  },
  {
   "cell_type": "code",
   "execution_count": null,
   "metadata": {
    "id": "YOdSITz6JXmi"
   },
   "outputs": [],
   "source": []
  },
  {
   "cell_type": "markdown",
   "metadata": {
    "id": "uZnYZVrzJXmj"
   },
   "source": [
    "8. Faça um algoritmo que receba uma matriz de 5x5 com números reais. Ao final o algoritmo deve calcular e mostrar a média dos elementos que estão nas linhas pares da matriz."
   ]
  },
  {
   "cell_type": "code",
   "execution_count": null,
   "metadata": {
    "id": "WI47g98mJXmn"
   },
   "outputs": [],
   "source": []
  },
  {
   "cell_type": "markdown",
   "metadata": {
    "id": "gNYqRjM4JXmo"
   },
   "source": [
    "### Exercícios sobre Tuplas"
   ]
  },
  {
   "cell_type": "markdown",
   "metadata": {
    "id": "LeGsIuRlJXmq"
   },
   "source": [
    "9. Faça um algoritmo que armazenará os 10 primeiros números primos acima de 100 em uma trupla. Ao final, o algoritmo deve mostrar os valores dessa estrutura de dados.\n"
   ]
  },
  {
   "cell_type": "code",
   "execution_count": 113,
   "metadata": {
    "colab": {
     "base_uri": "https://localhost:8080/",
     "height": 193
    },
    "id": "dsasLIPiJXmr",
    "outputId": "814c5026-52f6-407a-cf01-16c3df85571b"
   },
   "outputs": [
    {
     "name": "stdout",
     "output_type": "stream",
     "text": [
      "Digite o valor 1: 2\n"
     ]
    },
    {
     "ename": "NameError",
     "evalue": "name 't' is not defined",
     "output_type": "error",
     "traceback": [
      "\u001b[0;31m---------------------------------------------------------------------------\u001b[0m",
      "\u001b[0;31mNameError\u001b[0m                                 Traceback (most recent call last)",
      "\u001b[0;32m<ipython-input-113-bc0a97133d03>\u001b[0m in \u001b[0;36m<cell line: 2>\u001b[0;34m()\u001b[0m\n\u001b[1;32m      4\u001b[0m   \u001b[0mlista\u001b[0m\u001b[0;34m.\u001b[0m\u001b[0mappend\u001b[0m\u001b[0;34m(\u001b[0m\u001b[0mn\u001b[0m\u001b[0;34m)\u001b[0m\u001b[0;34m\u001b[0m\u001b[0;34m\u001b[0m\u001b[0m\n\u001b[1;32m      5\u001b[0m \u001b[0;34m\u001b[0m\u001b[0m\n\u001b[0;32m----> 6\u001b[0;31m   \u001b[0mprint\u001b[0m\u001b[0;34m(\u001b[0m\u001b[0mt\u001b[0m\u001b[0;34m)\u001b[0m\u001b[0;34m\u001b[0m\u001b[0;34m\u001b[0m\u001b[0m\n\u001b[0m",
      "\u001b[0;31mNameError\u001b[0m: name 't' is not defined"
     ]
    }
   ],
   "source": [
    "lista = []\n",
    "for i in range(5):\n",
    "  n = int(input(f\"Digite o valor {i+1}: \"))\n",
    "  lista.append(n)\n",
    "\n"
   ]
  },
  {
   "cell_type": "code",
   "execution_count": null,
   "metadata": {
    "id": "UoOLlzgAJXmr"
   },
   "outputs": [],
   "source": []
  },
  {
   "cell_type": "markdown",
   "metadata": {
    "id": "bf6NWJg1JXms"
   },
   "source": [
    "### Exercícios sobre Dicionários"
   ]
  },
  {
   "cell_type": "markdown",
   "metadata": {
    "id": "2-UXRT4rJXmt"
   },
   "source": [
    "10. Faça um algoritmo que carregue um dicionário de 10 elementos onde a chave é o sobrenome da pessoa e o valor a sua idade.\n",
    "Após a finalização da entrada, o algoritmo deve escrever o sobrenome da pessoa com maior idade."
   ]
  },
  {
   "cell_type": "code",
   "execution_count": 114,
   "metadata": {
    "colab": {
     "base_uri": "https://localhost:8080/"
    },
    "id": "ulutuMLxJXmt",
    "outputId": "be380427-fab0-498a-a728-b2571b060e21"
   },
   "outputs": [
    {
     "name": "stdout",
     "output_type": "stream",
     "text": [
      "Digite o nome 1: Ana\n",
      "Digite a idade 1: 23\n",
      "Digite o nome 2: José\n",
      "Digite a idade 2: 45\n",
      "Digite o nome 3: João\n",
      "Digite a idade 3: 27\n",
      "Digite o nome 4: André\n",
      "Digite a idade 4: 21\n",
      "Digite o nome 5: Maria\n",
      "Digite a idade 5: 34\n",
      "{'Ana': 23, 'José': 45, 'João': 27, 'André': 21, 'Maria': 34}\n"
     ]
    }
   ],
   "source": [
    "d = {}\n",
    "for i in range(5):\n",
    "  nome = input(f\"Digite o nome {i+1}: \")\n",
    "  idade = int(input(f\"Digite a idade {i+1}: \"))\n",
    "  d[nome] = idade\n",
    "\n",
    "print(max(d))"
   ]
  },
  {
   "cell_type": "markdown",
   "metadata": {
    "id": "sP0gT8X0JXmu"
   },
   "source": [
    "11. Faça um algoritmo que carregue um dicionário contendo nome e idade (pelo menos 5 pares). Depois de carregar, mostre todos os nomes que tenham idade maior que a média das idades."
   ]
  },
  {
   "cell_type": "code",
   "execution_count": null,
   "metadata": {
    "id": "BDe32hKhJXmu"
   },
   "outputs": [],
   "source": []
  },
  {
   "cell_type": "markdown",
   "metadata": {
    "id": "8-an3SiUJXmu"
   },
   "source": [
    "12. Faça algoritmo que carregue duas listas de cinco elementos numéricos inteiros cada um. A partir dessas duas listas, crie um conjunto da união entre essas duas listas."
   ]
  },
  {
   "cell_type": "code",
   "execution_count": null,
   "metadata": {
    "id": "5tbBqdGAJXmv"
   },
   "outputs": [],
   "source": []
  },
  {
   "cell_type": "markdown",
   "metadata": {
    "id": "uqjBLPn8JXmv"
   },
   "source": [
    "## FIM"
   ]
  }
 ],
 "metadata": {
  "anaconda-cloud": {},
  "colab": {
   "provenance": []
  },
  "kernelspec": {
   "display_name": "Python 3 (ipykernel)",
   "language": "python",
   "name": "python3"
  },
  "language_info": {
   "codemirror_mode": {
    "name": "ipython",
    "version": 3
   },
   "file_extension": ".py",
   "mimetype": "text/x-python",
   "name": "python",
   "nbconvert_exporter": "python",
   "pygments_lexer": "ipython3",
   "version": "3.11.7"
  }
 },
 "nbformat": 4,
 "nbformat_minor": 4
}
